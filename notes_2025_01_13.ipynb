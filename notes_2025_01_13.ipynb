{
 "cells": [
  {
   "cell_type": "markdown",
   "id": "bce29719-1209-4eea-8160-e70f3a96f87e",
   "metadata": {},
   "source": [
    "# MATH 210 Introduction to Mathematical Computing\n",
    "\n",
    "**January 13, 2025**\n",
    "\n",
    "* Variables\n",
    "* Sequence Types\n",
    "* Builtin Function for Sequences"
   ]
  },
  {
   "cell_type": "markdown",
   "id": "afee79dc-59e5-4f52-93a1-7cf4ff75debf",
   "metadata": {},
   "source": [
    "## Variables\n",
    "\n",
    "Use variables to easily modify and combine values together. A variable name must start with a letter (or underscore). Don't use any reserved words as variable names.\n",
    "\n",
    "Fore example, let's setup a few lines of code to compute the norm of a vectors $\\vec{v} = (x,y)$.\n",
    "\n",
    "$$\n",
    "\\| \\vec{v} \\| = (x^2 + y^2)^{1/2}\n",
    "$$"
   ]
  },
  {
   "cell_type": "code",
   "execution_count": 1,
   "id": "b5fe742a-f79a-4a55-a910-f9ecf8bc9b69",
   "metadata": {},
   "outputs": [
    {
     "name": "stdout",
     "output_type": "stream",
     "text": [
      "1.4142135623730951\n"
     ]
    }
   ],
   "source": [
    "x = 1\n",
    "y = 1\n",
    "norm = (x**2 + y**2)**(0.5)\n",
    "print(norm)"
   ]
  },
  {
   "cell_type": "markdown",
   "id": "e5470b03-1516-4148-b2f7-0c54c7a80323",
   "metadata": {},
   "source": [
    "## Sequence Types\n",
    "\n",
    "There are 3 main sequence types: list, tuple and range. Create a list of numbers using square brackets `[1,2,3]`."
   ]
  },
  {
   "cell_type": "code",
   "execution_count": 2,
   "id": "66980fb6-deb0-4743-b484-6736b2c9d2fb",
   "metadata": {},
   "outputs": [],
   "source": [
    "v = [1,-2]"
   ]
  },
  {
   "cell_type": "code",
   "execution_count": 3,
   "id": "27ba58f8-2744-498b-b94c-6471e6a752c2",
   "metadata": {},
   "outputs": [
    {
     "name": "stdout",
     "output_type": "stream",
     "text": [
      "[1, -2]\n"
     ]
    }
   ],
   "source": [
    "print(v)"
   ]
  },
  {
   "cell_type": "code",
   "execution_count": 4,
   "id": "b940b64e-3e28-4aa3-81c0-f8012dea8b0c",
   "metadata": {},
   "outputs": [],
   "source": [
    "primes = [2,3,5,7,11,13,17,19,23,29,31,37,41]"
   ]
  },
  {
   "cell_type": "code",
   "execution_count": 5,
   "id": "8050989d-883e-46df-bb7d-a52b84ee135a",
   "metadata": {},
   "outputs": [
    {
     "name": "stdout",
     "output_type": "stream",
     "text": [
      "[2, 3, 5, 7, 11, 13, 17, 19, 23, 29, 31, 37, 41]\n"
     ]
    }
   ],
   "source": [
    "print(primes)"
   ]
  },
  {
   "cell_type": "code",
   "execution_count": 6,
   "id": "6f6948fd-9adb-4b95-8ba0-55e8dc0b400f",
   "metadata": {},
   "outputs": [
    {
     "data": {
      "text/plain": [
       "list"
      ]
     },
     "execution_count": 6,
     "metadata": {},
     "output_type": "execute_result"
    }
   ],
   "source": [
    "type(primes)"
   ]
  },
  {
   "cell_type": "markdown",
   "id": "2823b224-acb9-4908-bda2-bee8df241193",
   "metadata": {},
   "source": [
    "Access entries in a list using index syntax such as `v[1]`. Note that Python uses 0-indexing where sequences begin with index 0."
   ]
  },
  {
   "cell_type": "code",
   "execution_count": 7,
   "id": "025a3bd7-1157-4cb0-b79a-98eed251e9b5",
   "metadata": {},
   "outputs": [
    {
     "data": {
      "text/plain": [
       "-2"
      ]
     },
     "execution_count": 7,
     "metadata": {},
     "output_type": "execute_result"
    }
   ],
   "source": [
    "v[1]"
   ]
  },
  {
   "cell_type": "code",
   "execution_count": 8,
   "id": "f34a641e-4723-4679-ba58-85d3687adc45",
   "metadata": {},
   "outputs": [
    {
     "data": {
      "text/plain": [
       "1"
      ]
     },
     "execution_count": 8,
     "metadata": {},
     "output_type": "execute_result"
    }
   ],
   "source": [
    "v[0]"
   ]
  },
  {
   "cell_type": "code",
   "execution_count": 9,
   "id": "a286202f-2cae-44f0-86be-8418627dd758",
   "metadata": {},
   "outputs": [
    {
     "data": {
      "text/plain": [
       "13"
      ]
     },
     "execution_count": 9,
     "metadata": {},
     "output_type": "execute_result"
    }
   ],
   "source": [
    "primes[5]"
   ]
  },
  {
   "cell_type": "markdown",
   "id": "62fc9158-17c0-4434-9a93-9dea352f139d",
   "metadata": {},
   "source": [
    "Create a tuple using parentheses `(1,2,3)`."
   ]
  },
  {
   "cell_type": "code",
   "execution_count": 10,
   "id": "de55d4a1-78ea-4cea-b67c-cd8faae67438",
   "metadata": {},
   "outputs": [],
   "source": [
    "date = (2025,1,13)"
   ]
  },
  {
   "cell_type": "markdown",
   "id": "4aa0c6cd-ce8c-4fe9-8d3b-591c823eeba7",
   "metadata": {},
   "source": [
    "Use indexing the same as a list to access entries in a tuple."
   ]
  },
  {
   "cell_type": "code",
   "execution_count": 11,
   "id": "0e59b26d-7b33-4ca2-9677-e5ccc9ff9d50",
   "metadata": {},
   "outputs": [
    {
     "data": {
      "text/plain": [
       "2025"
      ]
     },
     "execution_count": 11,
     "metadata": {},
     "output_type": "execute_result"
    }
   ],
   "source": [
    "date[0]"
   ]
  },
  {
   "cell_type": "markdown",
   "id": "78a8f1a6-8165-4aa9-aca6-4545959dd3fa",
   "metadata": {},
   "source": [
    "There is no real difference between lists and tuples for our examples in MATH 210. So just use lists and be aware of tuples. The only thing that might come up is that tuples are immutable. That means you can't change the entries of a tuple after it is defined."
   ]
  },
  {
   "cell_type": "code",
   "execution_count": 12,
   "id": "733237f3-277b-4776-964b-d923e49b5822",
   "metadata": {},
   "outputs": [
    {
     "ename": "TypeError",
     "evalue": "'tuple' object does not support item assignment",
     "output_type": "error",
     "traceback": [
      "\u001b[0;31m---------------------------------------------------------------------------\u001b[0m",
      "\u001b[0;31mTypeError\u001b[0m                                 Traceback (most recent call last)",
      "Cell \u001b[0;32mIn[12], line 1\u001b[0m\n\u001b[0;32m----> 1\u001b[0m \u001b[43mdate\u001b[49m\u001b[43m[\u001b[49m\u001b[38;5;241;43m2\u001b[39;49m\u001b[43m]\u001b[49m \u001b[38;5;241m=\u001b[39m \u001b[38;5;241m14\u001b[39m\n",
      "\u001b[0;31mTypeError\u001b[0m: 'tuple' object does not support item assignment"
     ]
    }
   ],
   "source": [
    "date[2] = 14"
   ]
  },
  {
   "cell_type": "code",
   "execution_count": 13,
   "id": "de588ba7-c11d-46b9-8f47-b2be334205e6",
   "metadata": {},
   "outputs": [],
   "source": [
    "date1 = [2025,1,13]"
   ]
  },
  {
   "cell_type": "code",
   "execution_count": 14,
   "id": "47eb8fdb-10b6-4dea-9a0c-17a28f6fd3ab",
   "metadata": {},
   "outputs": [],
   "source": [
    "date1[2] = 14"
   ]
  },
  {
   "cell_type": "code",
   "execution_count": 15,
   "id": "89f27f0a-0976-4dc3-a0d1-0d279cc9ee39",
   "metadata": {},
   "outputs": [
    {
     "data": {
      "text/plain": [
       "[2025, 1, 14]"
      ]
     },
     "execution_count": 15,
     "metadata": {},
     "output_type": "execute_result"
    }
   ],
   "source": [
    "date1"
   ]
  },
  {
   "cell_type": "markdown",
   "id": "b0b201ae-ad9d-462e-8213-2a6ba28c5ae2",
   "metadata": {},
   "source": [
    "Use the builtin function `list` to convert a sequence into a list. Use the funciton `tuple` to convert a sequence into a tuple."
   ]
  },
  {
   "cell_type": "code",
   "execution_count": 16,
   "id": "7ebd1ce4-fb00-4a4b-aabb-4e07be869eb7",
   "metadata": {},
   "outputs": [
    {
     "data": {
      "text/plain": [
       "list"
      ]
     },
     "execution_count": 16,
     "metadata": {},
     "output_type": "execute_result"
    }
   ],
   "source": [
    "type(primes)"
   ]
  },
  {
   "cell_type": "code",
   "execution_count": 17,
   "id": "fe011368-05c7-4bab-88f0-e0aa3318697d",
   "metadata": {},
   "outputs": [],
   "source": [
    "primes_tuple = tuple(primes)"
   ]
  },
  {
   "cell_type": "code",
   "execution_count": 18,
   "id": "bb93461b-7ac5-499e-b1cf-c729550ca297",
   "metadata": {},
   "outputs": [
    {
     "name": "stdout",
     "output_type": "stream",
     "text": [
      "(2, 3, 5, 7, 11, 13, 17, 19, 23, 29, 31, 37, 41)\n"
     ]
    }
   ],
   "source": [
    "print(primes_tuple)"
   ]
  },
  {
   "cell_type": "code",
   "execution_count": 19,
   "id": "1554362e-ac0f-4075-96ad-a39972969b90",
   "metadata": {},
   "outputs": [
    {
     "data": {
      "text/plain": [
       "tuple"
      ]
     },
     "execution_count": 19,
     "metadata": {},
     "output_type": "execute_result"
    }
   ],
   "source": [
    "type(primes_tuple)"
   ]
  },
  {
   "cell_type": "markdown",
   "id": "7a326588-a34c-478a-9377-7c221e3f1f68",
   "metadata": {},
   "source": [
    "A range object is an efficient sequence of integers that we usually construct for for loops. A range object doesn't store values, instead it provides each entry when you ask for it. Use the syntax `range(a,b,step)` to create the sequence of integers from `a` to `b` with increment `step`. Use the syntax `range(a,b)` to create the sequence of integers from `a` to `b` (exclusive) with increment `1`."
   ]
  },
  {
   "cell_type": "code",
   "execution_count": 20,
   "id": "dc6df4e9-85d4-4e62-ae6e-dc50f8515cdd",
   "metadata": {},
   "outputs": [],
   "source": [
    "seq1 = range(0,5)"
   ]
  },
  {
   "cell_type": "code",
   "execution_count": 21,
   "id": "9b376fa3-0470-4ba6-92e4-5417ea2dd96c",
   "metadata": {},
   "outputs": [
    {
     "name": "stdout",
     "output_type": "stream",
     "text": [
      "range(0, 5)\n"
     ]
    }
   ],
   "source": [
    "print(seq1)"
   ]
  },
  {
   "cell_type": "code",
   "execution_count": 22,
   "id": "d9778b6a-2d19-4930-8773-6d55fbdf74b9",
   "metadata": {},
   "outputs": [
    {
     "data": {
      "text/plain": [
       "2"
      ]
     },
     "execution_count": 22,
     "metadata": {},
     "output_type": "execute_result"
    }
   ],
   "source": [
    "seq1[2]"
   ]
  },
  {
   "cell_type": "markdown",
   "id": "448ddeb3-134c-4734-91d1-10afab4aa1a9",
   "metadata": {},
   "source": [
    "Use `list` to convert a range object to list."
   ]
  },
  {
   "cell_type": "code",
   "execution_count": 23,
   "id": "4c37eab3-a9be-48ce-a893-0b270f7f2d30",
   "metadata": {},
   "outputs": [
    {
     "name": "stdout",
     "output_type": "stream",
     "text": [
      "[0, 1, 2, 3, 4]\n"
     ]
    }
   ],
   "source": [
    "list1 = list(seq1)\n",
    "print(list1)"
   ]
  },
  {
   "cell_type": "code",
   "execution_count": 24,
   "id": "7113550e-940a-47bd-a77f-2848307891a7",
   "metadata": {},
   "outputs": [],
   "source": [
    "seq2 = range(-10,12,2) # sqe2[n] = a + n*step"
   ]
  },
  {
   "cell_type": "code",
   "execution_count": 25,
   "id": "a4939b02-7e29-44f1-bf07-e69c15c2c633",
   "metadata": {},
   "outputs": [
    {
     "data": {
      "text/plain": [
       "-4"
      ]
     },
     "execution_count": 25,
     "metadata": {},
     "output_type": "execute_result"
    }
   ],
   "source": [
    "seq2[3]"
   ]
  },
  {
   "cell_type": "code",
   "execution_count": 26,
   "id": "a7b106f2-055d-42a5-8dab-94dbeff0aa6d",
   "metadata": {},
   "outputs": [
    {
     "name": "stdout",
     "output_type": "stream",
     "text": [
      "range(-10, 12, 2)\n"
     ]
    }
   ],
   "source": [
    "print(seq2)"
   ]
  },
  {
   "cell_type": "code",
   "execution_count": 27,
   "id": "84e07400-5726-4d3f-9d57-9f2a08646fce",
   "metadata": {},
   "outputs": [],
   "source": [
    "list2 = list(seq2)"
   ]
  },
  {
   "cell_type": "code",
   "execution_count": 28,
   "id": "21becf80-75f6-4601-af5e-26b3e54abd4b",
   "metadata": {},
   "outputs": [
    {
     "name": "stdout",
     "output_type": "stream",
     "text": [
      "[-10, -8, -6, -4, -2, 0, 2, 4, 6, 8, 10]\n"
     ]
    }
   ],
   "source": [
    "print(list2)"
   ]
  },
  {
   "cell_type": "code",
   "execution_count": 29,
   "id": "4e062bca-f0ce-4b7b-8f58-5340992c4871",
   "metadata": {},
   "outputs": [
    {
     "name": "stdout",
     "output_type": "stream",
     "text": [
      "[0, 1, 2, 3, 4, 5, 6, 7, 8, 9, 10, 11, 12, 13, 14, 15, 16, 17, 18, 19, 20, 21, 22, 23, 24, 25, 26, 27, 28, 29, 30, 31, 32, 33, 34, 35, 36, 37, 38, 39, 40, 41, 42, 43, 44, 45, 46, 47, 48, 49]\n"
     ]
    }
   ],
   "source": [
    "N = 50\n",
    "listN = list(range(0,N))\n",
    "print(listN)"
   ]
  },
  {
   "cell_type": "markdown",
   "id": "991f2ee2-60c8-4271-a6b5-3430ac55daa8",
   "metadata": {},
   "source": [
    "## Builtin Functions for Sequences\n",
    "\n",
    "The function `sum` computes the sum of the entries in a sequence."
   ]
  },
  {
   "cell_type": "code",
   "execution_count": 30,
   "id": "eead4ff4-d257-4492-b023-618ea899db77",
   "metadata": {},
   "outputs": [
    {
     "name": "stdout",
     "output_type": "stream",
     "text": [
      "10\n"
     ]
    }
   ],
   "source": [
    "w = [7,2,-4,5]\n",
    "s = sum(w)\n",
    "print(s)"
   ]
  },
  {
   "cell_type": "code",
   "execution_count": 31,
   "id": "25b29ea1-a589-4fd6-8347-d0107f0afa71",
   "metadata": {},
   "outputs": [
    {
     "name": "stdout",
     "output_type": "stream",
     "text": [
      "15\n"
     ]
    }
   ],
   "source": [
    "r = range(1,6)\n",
    "sum_r = sum(r)\n",
    "print(sum_r)"
   ]
  },
  {
   "cell_type": "code",
   "execution_count": 32,
   "id": "4e12e0d5-3571-4330-b46b-4a3988c14c09",
   "metadata": {},
   "outputs": [
    {
     "name": "stdout",
     "output_type": "stream",
     "text": [
      "5050\n"
     ]
    }
   ],
   "source": [
    "N = 101\n",
    "rN = range(1,N)\n",
    "sumN = sum(rN)\n",
    "print(sumN)"
   ]
  },
  {
   "cell_type": "markdown",
   "id": "a4e1b2d5-47d3-410c-8fff-39aa1dc46581",
   "metadata": {},
   "source": [
    "Functions `min` and `max` return the minimum and maximum values in a sequence."
   ]
  },
  {
   "cell_type": "code",
   "execution_count": 33,
   "id": "70e619b1-65bb-4431-bc45-29277dc8d5a0",
   "metadata": {},
   "outputs": [],
   "source": [
    "u = [10,-4,6,1,5]"
   ]
  },
  {
   "cell_type": "code",
   "execution_count": 34,
   "id": "01d5e4d8-560d-4e4c-ab27-e3b6a27b952b",
   "metadata": {},
   "outputs": [
    {
     "data": {
      "text/plain": [
       "-4"
      ]
     },
     "execution_count": 34,
     "metadata": {},
     "output_type": "execute_result"
    }
   ],
   "source": [
    "min(u)"
   ]
  },
  {
   "cell_type": "code",
   "execution_count": 35,
   "id": "af56f7a2-fd6f-447d-bbff-861fc0fe9a42",
   "metadata": {},
   "outputs": [
    {
     "data": {
      "text/plain": [
       "10"
      ]
     },
     "execution_count": 35,
     "metadata": {},
     "output_type": "execute_result"
    }
   ],
   "source": [
    "max(u)"
   ]
  }
 ],
 "metadata": {
  "kernelspec": {
   "display_name": "Python 3 (ipykernel)",
   "language": "python",
   "name": "python3"
  },
  "language_info": {
   "codemirror_mode": {
    "name": "ipython",
    "version": 3
   },
   "file_extension": ".py",
   "mimetype": "text/x-python",
   "name": "python",
   "nbconvert_exporter": "python",
   "pygments_lexer": "ipython3",
   "version": "3.12.8"
  }
 },
 "nbformat": 4,
 "nbformat_minor": 5
}
