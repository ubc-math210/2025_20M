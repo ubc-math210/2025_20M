{
 "cells": [
  {
   "cell_type": "markdown",
   "id": "99e732e8-fee8-4a0e-82ef-151339797301",
   "metadata": {},
   "source": [
    "# MATH 210 Introduction to Mathematical Computing\n",
    "\n",
    "**January 27, 2024**\n",
    "\n",
    "* Fixed Points\n",
    "* Intermediate Value Theorem\n",
    "* Fixed Point Theorem"
   ]
  },
  {
   "cell_type": "markdown",
   "id": "7aa2f837-ad79-4f4b-a24e-20cacd32959d",
   "metadata": {},
   "source": [
    "## Fixed Points\n",
    "\n",
    "From last time, we used a function $f(x)$ to define a recursive sequence $x_0 = a$, $x_{n+1} = f(x_n)$. We did the example $f(x) = \\sqrt{2 + x}$."
   ]
  },
  {
   "cell_type": "code",
   "execution_count": 1,
   "id": "852b8e75-ee8a-41bd-a30d-db6a40ca278a",
   "metadata": {},
   "outputs": [],
   "source": [
    "def aseq(a,N):\n",
    "    xk = a\n",
    "    for k in range(N):\n",
    "        xk = (2 + xk)**0.5\n",
    "    return xk"
   ]
  },
  {
   "cell_type": "code",
   "execution_count": 2,
   "id": "80eb995e-467a-4933-9562-31b015620c9b",
   "metadata": {},
   "outputs": [
    {
     "data": {
      "text/plain": [
       "1.9999989541791767"
      ]
     },
     "execution_count": 2,
     "metadata": {},
     "output_type": "execute_result"
    }
   ],
   "source": [
    "aseq(1,10)"
   ]
  },
  {
   "cell_type": "code",
   "execution_count": 3,
   "id": "b51488a2-4ef9-400e-b2b3-c741b8ba52f9",
   "metadata": {},
   "outputs": [
    {
     "data": {
      "text/plain": [
       "2.0000000000022324"
      ]
     },
     "execution_count": 3,
     "metadata": {},
     "output_type": "execute_result"
    }
   ],
   "source": [
    "aseq(5,20)"
   ]
  },
  {
   "cell_type": "markdown",
   "id": "9517772c-4dd1-4916-b032-a49c838af43b",
   "metadata": {},
   "source": [
    "It looks like $\\lim_{n\\to \\infty} x_n = 2$. Can we prove it?"
   ]
  },
  {
   "cell_type": "markdown",
   "id": "52b4400c-9e1c-4c33-8389-825eebfff25a",
   "metadata": {},
   "source": [
    "Assume that the sequence $x_{n+1} = f(x_n)$ converges to a value $L$. That is:\n",
    "\n",
    "$$\n",
    "\\lim_{n \\to \\infty} x_n = L\n",
    "$$\n",
    "\n",
    "Look at the definition and apply the limit:\n",
    "\n",
    "$$\n",
    "\\lim_{n \\to \\infty} x_{n+1} = \\lim_{n \\to \\infty} f(x_n) \\ \\Rightarrow \\ L = f(L)\n",
    "$$\n",
    "\n",
    "since\n",
    "\n",
    "$$\n",
    "\\lim_{n \\to \\infty} f(x_n) = f \\left( \\lim_{n \\to \\infty} x_n \\right) = f(L)\n",
    "$$"
   ]
  },
  {
   "cell_type": "markdown",
   "id": "f15db745-3484-420d-83d4-ef2c4b0a69b9",
   "metadata": {},
   "source": [
    "Therefore if $x_{n+1} = f(x_n)$ converges then it must converge to a value $L$ satisfying\n",
    "\n",
    "$$\n",
    "L = f(L)\n",
    "$$\n",
    "\n",
    "A value $L$ such that $L = f(L)$ is called a **fixed point** of the function $f(x)$."
   ]
  },
  {
   "cell_type": "markdown",
   "id": "8948aeed-02ae-435a-9e2d-ba3467aa1efe",
   "metadata": {},
   "source": [
    "How do we know if $f(x)$ has a fixed point? If it does, how do we find them?"
   ]
  },
  {
   "cell_type": "markdown",
   "id": "04e40e30-be43-475f-856f-328497d4d486",
   "metadata": {},
   "source": [
    "1. Set $x = f(x)$ and solve for $x$. For example, $x = \\sqrt{2 + x}$ then $x = 2$.\n",
    "2. What if we can't solve $x = f(x)$ algebraically? For example, $f(x) = e^{-x}$. Then plot $y=x$ and $y=f(x)$ and see where they intersect."
   ]
  },
  {
   "cell_type": "markdown",
   "id": "af37f61d-34d4-46aa-b1b2-0ac83ef2c5f9",
   "metadata": {},
   "source": [
    "## Intermediate Value Theorem\n",
    "\n",
    "Let $g(x)$ be a continuous function on $[a,b]$. If $g(a) g(b) < 0$ (that is, $g(a)$ and $g(b)$ have opposite sign) then there is some $c \\in [a,b]$ where $g(c) = 0$."
   ]
  },
  {
   "cell_type": "markdown",
   "id": "8285906d-ae44-4fbf-9646-f34c0d38a1a0",
   "metadata": {},
   "source": [
    "For example, show that $f(x) = e^{-x}$ has a unique fixed point."
   ]
  },
  {
   "cell_type": "markdown",
   "id": "692f749c-be48-41a4-833c-8686c368f02a",
   "metadata": {},
   "source": [
    "Define $g(x) = x - f(x) = x - e^{-x}$. We know that $g(x)$ is continuous everywhere. Plug in $g(0) = 0 - e^0=-1$ and plug in $g(1) = 1 - e^{-1} = 1 - 1/e > 0$. By the Intermediate Value Theorem, there exists $c \\in [0,1]$ such that $g(c) =0$. In other words, $c = f(c)$ and so $f(x)$ has a fixed point."
   ]
  },
  {
   "cell_type": "markdown",
   "id": "5b95cb28-354f-4a51-8841-a60dcd755a76",
   "metadata": {},
   "source": [
    "How do we show that this is the only fixed point? Show that $g(x)$ is always increasing/descreasing. Compute $g'(x) = 1 + e^{-x}$. Then $g'(x) > 0$ for all $x$ and so is always increasing. Therefore $g(x)$ crosses $x$-axis only once and finally $f(x)$ has a unique fixed point."
   ]
  },
  {
   "cell_type": "markdown",
   "id": "4e51c201-bd6b-4d01-be98-a1a8bd563c6f",
   "metadata": {},
   "source": [
    "## Fixed Point Theorem\n",
    "\n",
    "Let $f(x)$ be a differentiable function. Let $L$ be a fixed point of $f(x)$. If $|f'(x)|<1$ for all $x \\in [L-c,L+c]$ for some $c>0$ then sequence $x_0 = a$, $x_{n+1} = f(x_n)$, converges to $L$ for any initial value $a \\in [L-c,L+c]$."
   ]
  }
 ],
 "metadata": {
  "kernelspec": {
   "display_name": "Python 3 (ipykernel)",
   "language": "python",
   "name": "python3"
  },
  "language_info": {
   "codemirror_mode": {
    "name": "ipython",
    "version": 3
   },
   "file_extension": ".py",
   "mimetype": "text/x-python",
   "name": "python",
   "nbconvert_exporter": "python",
   "pygments_lexer": "ipython3",
   "version": "3.12.8"
  }
 },
 "nbformat": 4,
 "nbformat_minor": 5
}
