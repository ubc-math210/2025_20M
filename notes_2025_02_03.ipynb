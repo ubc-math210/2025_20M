{
 "cells": [
  {
   "cell_type": "markdown",
   "id": "636a4658-3de1-460e-ba11-570c4f8d0b51",
   "metadata": {},
   "source": [
    "# MATH 210 Introduction to Mathematical Modelling\n",
    "\n",
    "**February 3, 2025**\n",
    "\n",
    "* Root Finding\n",
    "* Intermediate Value Theorem\n",
    "* Bisection Method"
   ]
  },
  {
   "cell_type": "markdown",
   "id": "31a0f7ff-6917-4320-983f-d3c20292eb0d",
   "metadata": {},
   "source": [
    "## Root Finding\n",
    "\n",
    "A root of a function $f(x)$ is a value $r$ such that $f(r) = 0$. Root finding is the process of solving equations of the form $f(x) = 0$. It is usually impossible to solve for roots algebraically. But we can always approximate using root finding algorithms."
   ]
  },
  {
   "cell_type": "markdown",
   "id": "7bdf8d54-5a89-47bb-80f2-5884e03cc62f",
   "metadata": {},
   "source": [
    "## Intermediate Value Theorem\n",
    "\n",
    "Let $f(x)$ be a continuous function on $[a,b]$. If $f(a)f(b) < 0$ (that is, the sign changes from $a$ to $b$) then there is a root of $f(x)$ in the interval $(a,b)$. In other words, there is a $r \\in (a,b)$ such that $f(r) = 0$."
   ]
  },
  {
   "cell_type": "markdown",
   "id": "6d5c27d5-63cd-41a8-8a7d-c9ab6f09b104",
   "metadata": {},
   "source": [
    "## Bisection Method"
   ]
  },
  {
   "cell_type": "code",
   "execution_count": 19,
   "id": "a5c2bacd-f2c8-4e85-9d07-a1b76964e915",
   "metadata": {},
   "outputs": [],
   "source": [
    "def bisection(f,a,b,N):\n",
    "    if f(a)*f(b) >= 0:\n",
    "        print(\"Bisection method fails.\")\n",
    "        return None\n",
    "    a_n = a\n",
    "    b_n = b\n",
    "    for n in range(1,N+1):\n",
    "        m_n = (a_n + b_n)/2\n",
    "        f_m_n = f(m_n)\n",
    "        if f(a_n)*f_m_n < 0:\n",
    "            a_n = a_n\n",
    "            b_n = m_n\n",
    "        elif f(b_n)*f_m_n < 0:\n",
    "            a_n = m_n\n",
    "            b_n = b_n\n",
    "        elif f_m_n == 0:\n",
    "            print(\"Found exact solution.\")\n",
    "            return m_n\n",
    "        else:\n",
    "            print(\"Bisection method fails.\")\n",
    "            return None\n",
    "    return (a_n + b_n)/2"
   ]
  },
  {
   "cell_type": "markdown",
   "id": "6ea4cbdc-8389-45d8-910e-0cda09c723fc",
   "metadata": {},
   "source": [
    "**Example.** Use bisection method to find roots of $x^3 + x - 1 = 0.$\n",
    "\n",
    "Let $f(x) = x^3 + x - 1$. We know from last Wednesday that there is one real root in the interval $[0,1]$ since $f(0) = -1$ and $f(1) = 1$."
   ]
  },
  {
   "cell_type": "code",
   "execution_count": 20,
   "id": "a912fa57-22af-4d7c-b4fe-61e7885b2158",
   "metadata": {},
   "outputs": [
    {
     "name": "stdout",
     "output_type": "stream",
     "text": [
      "0.68212890625\n"
     ]
    }
   ],
   "source": [
    "f = lambda x: x**3 + x - 1\n",
    "a = 0\n",
    "b = 1\n",
    "N = 10\n",
    "r = bisection(f,a,b,N)\n",
    "print(r)"
   ]
  },
  {
   "cell_type": "markdown",
   "id": "03ebd3ae-11d0-4619-a33e-19355f060f6d",
   "metadata": {},
   "source": [
    "**Example.** Use bisection method to approximate all solutions of $x^x = 2$ ($x > 0$) with absolute error less than 0.001.\n",
    "\n",
    "Let $f(x) = x^x - 2$, $x > 0$. The term $x^x$ is clearly always increasing therefore there is at most 1 real root. We see that $f(1) = -1$ and $f(2) = 2$. Therefore there is a root in $[1,2]$. The function $f(x)$ has 1 root.\n",
    "\n",
    "To guarantee absolute error less than 0.001 we need to use $N$ where"
   ]
  },
  {
   "cell_type": "markdown",
   "id": "bfef7748-4293-48e5-8b45-c4cdbcbadc20",
   "metadata": {},
   "source": [
    "$$\n",
    "| r - x_N | < \\frac{b - a}{2^{N+1}} < 0.001\n",
    "$$"
   ]
  },
  {
   "cell_type": "code",
   "execution_count": 21,
   "id": "29cc7c92-b89d-403e-90a3-44c18672c7e2",
   "metadata": {},
   "outputs": [
    {
     "name": "stdout",
     "output_type": "stream",
     "text": [
      "0.0009765625\n"
     ]
    }
   ],
   "source": [
    "a = 1\n",
    "b = 2\n",
    "N = 9\n",
    "print((b - a)/2**(N+1))"
   ]
  },
  {
   "cell_type": "code",
   "execution_count": 24,
   "id": "58c88ec6-213f-4673-a95b-c3f7c11b2362",
   "metadata": {},
   "outputs": [
    {
     "name": "stdout",
     "output_type": "stream",
     "text": [
      "1.5595703125 +- 0.0009765625\n"
     ]
    }
   ],
   "source": [
    "f = lambda x: x**x - 2\n",
    "a = 1\n",
    "b = 2\n",
    "N = 9\n",
    "\n",
    "r = bisection(f,a,b,N)\n",
    "error_bound = (b - a)/2**(N+1)\n",
    "\n",
    "print(r,\"+-\",error_bound)"
   ]
  }
 ],
 "metadata": {
  "kernelspec": {
   "display_name": "Python 3 (ipykernel)",
   "language": "python",
   "name": "python3"
  },
  "language_info": {
   "codemirror_mode": {
    "name": "ipython",
    "version": 3
   },
   "file_extension": ".py",
   "mimetype": "text/x-python",
   "name": "python",
   "nbconvert_exporter": "python",
   "pygments_lexer": "ipython3",
   "version": "3.12.8"
  }
 },
 "nbformat": 4,
 "nbformat_minor": 5
}
