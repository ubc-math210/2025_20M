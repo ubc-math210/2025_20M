{
 "cells": [
  {
   "cell_type": "markdown",
   "id": "0539ee14-ebba-40cb-961b-63148c13db9d",
   "metadata": {},
   "source": [
    "# MATH 210 Introduction to Mathematical Computing\n",
    "\n",
    "**March 24, 2025**"
   ]
  },
  {
   "cell_type": "code",
   "execution_count": 1,
   "id": "82351259-82b2-4631-9ce4-d0c374b24404",
   "metadata": {},
   "outputs": [],
   "source": [
    "import numpy as np\n",
    "import matplotlib.pyplot as plt"
   ]
  },
  {
   "cell_type": "markdown",
   "id": "d50fc1e3-cd96-4003-ad48-7e3a539d6d73",
   "metadata": {},
   "source": [
    "## NumPy Matrices"
   ]
  },
  {
   "cell_type": "markdown",
   "id": "897ee52d-6757-4773-9d5d-9f9b2998acab",
   "metadata": {},
   "source": [
    "Create matrices using the function `np.array`. Use `float` values instead of integers. This will be helpful later when we do row operations."
   ]
  },
  {
   "cell_type": "code",
   "execution_count": 2,
   "id": "56647301-13d8-4864-ba6a-2cd199ee7b17",
   "metadata": {},
   "outputs": [],
   "source": [
    "A = np.array([[1.,2.,3.],[4.,5.,6.]])"
   ]
  },
  {
   "cell_type": "code",
   "execution_count": 3,
   "id": "116ac264-187e-4a32-82a1-0fcd400c2931",
   "metadata": {},
   "outputs": [
    {
     "name": "stdout",
     "output_type": "stream",
     "text": [
      "[[1. 2. 3.]\n",
      " [4. 5. 6.]]\n"
     ]
    }
   ],
   "source": [
    "print(A)"
   ]
  },
  {
   "cell_type": "markdown",
   "id": "cc239c0b-8364-4435-917c-a4b6a38d37ec",
   "metadata": {},
   "source": [
    "Notice that we pass into the function `np.array` a list of lists. Each list is a row."
   ]
  },
  {
   "cell_type": "markdown",
   "id": "06e959d0-d3b3-441b-8f85-6e8a75184a02",
   "metadata": {},
   "source": [
    "We can access attributes of the NumPy array using the dot syntax:"
   ]
  },
  {
   "cell_type": "code",
   "execution_count": 4,
   "id": "c60276c4-a9dd-4742-84f0-1f628b09d8b5",
   "metadata": {},
   "outputs": [
    {
     "data": {
      "text/plain": [
       "dtype('float64')"
      ]
     },
     "execution_count": 4,
     "metadata": {},
     "output_type": "execute_result"
    }
   ],
   "source": [
    "A.dtype"
   ]
  },
  {
   "cell_type": "code",
   "execution_count": 5,
   "id": "ae379d4e-af0e-47d8-b476-27b063bacbf7",
   "metadata": {},
   "outputs": [
    {
     "data": {
      "text/plain": [
       "(2, 3)"
      ]
     },
     "execution_count": 5,
     "metadata": {},
     "output_type": "execute_result"
    }
   ],
   "source": [
    "A.shape"
   ]
  },
  {
   "cell_type": "code",
   "execution_count": 6,
   "id": "c8815288-7f3a-4421-b4d8-fdfc62cd2824",
   "metadata": {},
   "outputs": [
    {
     "data": {
      "text/plain": [
       "2"
      ]
     },
     "execution_count": 6,
     "metadata": {},
     "output_type": "execute_result"
    }
   ],
   "source": [
    "A.ndim"
   ]
  },
  {
   "cell_type": "markdown",
   "id": "87ca83af-da03-44ff-a25e-f31718312465",
   "metadata": {},
   "source": [
    "Select a row using index notation:"
   ]
  },
  {
   "cell_type": "code",
   "execution_count": 7,
   "id": "b33114a6-ef87-48c0-8c89-9fd981154a92",
   "metadata": {},
   "outputs": [],
   "source": [
    "r0 = A[0,:]"
   ]
  },
  {
   "cell_type": "code",
   "execution_count": 8,
   "id": "bf4efc8c-c835-4b63-bbb4-a0ccc96234d2",
   "metadata": {},
   "outputs": [
    {
     "data": {
      "text/plain": [
       "array([1., 2., 3.])"
      ]
     },
     "execution_count": 8,
     "metadata": {},
     "output_type": "execute_result"
    }
   ],
   "source": [
    "r0"
   ]
  },
  {
   "cell_type": "code",
   "execution_count": 9,
   "id": "9df9329a-340b-4ea8-9d14-a6ce9e645edc",
   "metadata": {},
   "outputs": [
    {
     "data": {
      "text/plain": [
       "(3,)"
      ]
     },
     "execution_count": 9,
     "metadata": {},
     "output_type": "execute_result"
    }
   ],
   "source": [
    "r0.shape"
   ]
  },
  {
   "cell_type": "code",
   "execution_count": 10,
   "id": "5b8ad077-bddc-4a3b-90da-831317e3eb23",
   "metadata": {},
   "outputs": [
    {
     "data": {
      "text/plain": [
       "1"
      ]
     },
     "execution_count": 10,
     "metadata": {},
     "output_type": "execute_result"
    }
   ],
   "source": [
    "r0.ndim"
   ]
  },
  {
   "cell_type": "markdown",
   "id": "004da56e-f4c9-4188-b79d-1eb0b212ddca",
   "metadata": {},
   "source": [
    "Select a column:"
   ]
  },
  {
   "cell_type": "code",
   "execution_count": 11,
   "id": "1ec0aaab-003a-4729-827b-45f0a9c6b20c",
   "metadata": {},
   "outputs": [],
   "source": [
    "c1 = A[:,1]"
   ]
  },
  {
   "cell_type": "code",
   "execution_count": 12,
   "id": "946a7910-dfd7-4e85-9308-34f4dd4c3ee5",
   "metadata": {},
   "outputs": [
    {
     "data": {
      "text/plain": [
       "array([2., 5.])"
      ]
     },
     "execution_count": 12,
     "metadata": {},
     "output_type": "execute_result"
    }
   ],
   "source": [
    "c1"
   ]
  },
  {
   "cell_type": "markdown",
   "id": "6eff7809-82d9-463d-be17-e42a93c78f4f",
   "metadata": {},
   "source": [
    "It looks like `c1` is row vector even though it is a column of `A`. In fact, it is a 1-dimensional NumPy array. It doesn't know if it is a row or a column. It is like a list. We only need 1 index to access its entries."
   ]
  },
  {
   "cell_type": "code",
   "execution_count": 13,
   "id": "e9d0ab8a-cc1e-4a7e-bd5c-a974e3475174",
   "metadata": {},
   "outputs": [
    {
     "data": {
      "text/plain": [
       "5.0"
      ]
     },
     "execution_count": 13,
     "metadata": {},
     "output_type": "execute_result"
    }
   ],
   "source": [
    "c1[1]"
   ]
  },
  {
   "cell_type": "markdown",
   "id": "f572d567-552a-4c46-a7c2-39948fc1510a",
   "metadata": {},
   "source": [
    "Use other functions to create matrices such as `np.diag`, `np.ones`, `np.zeros` and `np.eye`."
   ]
  },
  {
   "cell_type": "code",
   "execution_count": 14,
   "id": "42eedd1b-9c51-4147-9fa1-72de7985244d",
   "metadata": {},
   "outputs": [
    {
     "data": {
      "text/plain": [
       "array([[ 1.,  0.,  0.],\n",
       "       [ 0., -1.,  0.],\n",
       "       [ 0.,  0.,  1.]])"
      ]
     },
     "execution_count": 14,
     "metadata": {},
     "output_type": "execute_result"
    }
   ],
   "source": [
    "np.diag([1.,-1.,1])"
   ]
  },
  {
   "cell_type": "code",
   "execution_count": 15,
   "id": "90921ff0-a7be-4f34-b0a3-cb22d424c00b",
   "metadata": {},
   "outputs": [
    {
     "data": {
      "text/plain": [
       "array([1., 1., 1., 1., 1., 1., 1., 1., 1., 1.])"
      ]
     },
     "execution_count": 15,
     "metadata": {},
     "output_type": "execute_result"
    }
   ],
   "source": [
    "np.ones(10)"
   ]
  },
  {
   "cell_type": "code",
   "execution_count": 16,
   "id": "0137e3f7-584f-41c9-937f-7291e1bfc9d5",
   "metadata": {},
   "outputs": [
    {
     "data": {
      "text/plain": [
       "array([[0., 0., 0., 0.],\n",
       "       [0., 0., 0., 0.],\n",
       "       [0., 0., 0., 0.]])"
      ]
     },
     "execution_count": 16,
     "metadata": {},
     "output_type": "execute_result"
    }
   ],
   "source": [
    "np.zeros((3,4))"
   ]
  },
  {
   "cell_type": "code",
   "execution_count": 17,
   "id": "15f634ad-1d89-42ae-9b92-dc5abafd7bb4",
   "metadata": {},
   "outputs": [
    {
     "data": {
      "text/plain": [
       "array([[1., 0., 0.],\n",
       "       [0., 1., 0.],\n",
       "       [0., 0., 1.]])"
      ]
     },
     "execution_count": 17,
     "metadata": {},
     "output_type": "execute_result"
    }
   ],
   "source": [
    "np.eye(3)"
   ]
  },
  {
   "cell_type": "code",
   "execution_count": 18,
   "id": "18bf94f9-7bb0-4d41-a94b-ca347b883c8a",
   "metadata": {},
   "outputs": [
    {
     "name": "stdout",
     "output_type": "stream",
     "text": [
      "[[-2.  1.  0.  0.  0.  0.]\n",
      " [ 1. -2.  1.  0.  0.  0.]\n",
      " [ 0.  1. -2.  1.  0.  0.]\n",
      " [ 0.  0.  1. -2.  1.  0.]\n",
      " [ 0.  0.  0.  1. -2.  1.]\n",
      " [ 0.  0.  0.  0.  1. -2.]]\n"
     ]
    }
   ],
   "source": [
    "N = 6\n",
    "M = -2*np.eye(N) + np.diag(np.ones(N-1),1) + np.diag(np.ones(N-1),-1)\n",
    "print(M)"
   ]
  },
  {
   "cell_type": "markdown",
   "id": "2ee9cb42-ffb8-4c9a-bb2d-b344ae00a1cf",
   "metadata": {},
   "source": [
    "## Linear Algebra with SciPy"
   ]
  },
  {
   "cell_type": "code",
   "execution_count": 19,
   "id": "49386094-15ea-4a30-9997-1d96e8348a15",
   "metadata": {},
   "outputs": [],
   "source": [
    "import scipy.linalg as la"
   ]
  },
  {
   "cell_type": "code",
   "execution_count": 20,
   "id": "6288812a-6b9f-4fcd-bf21-aa7ed96f8e93",
   "metadata": {},
   "outputs": [
    {
     "data": {
      "text/plain": [
       "array([[1., 2.],\n",
       "       [2., 1.]])"
      ]
     },
     "execution_count": 20,
     "metadata": {},
     "output_type": "execute_result"
    }
   ],
   "source": [
    "A = np.array([[1.,2.],[2.,1]])\n",
    "A"
   ]
  },
  {
   "cell_type": "code",
   "execution_count": 21,
   "id": "c19d183d-e822-4065-98d6-31abff13666b",
   "metadata": {},
   "outputs": [
    {
     "data": {
      "text/plain": [
       "array([[1.],\n",
       "       [1.]])"
      ]
     },
     "execution_count": 21,
     "metadata": {},
     "output_type": "execute_result"
    }
   ],
   "source": [
    "b = np.array([[1.],[1.]])\n",
    "b"
   ]
  },
  {
   "cell_type": "code",
   "execution_count": 22,
   "id": "b0d7701f-348c-457e-ad12-6eeb16a7f70f",
   "metadata": {},
   "outputs": [],
   "source": [
    "x = la.solve(A,b)"
   ]
  },
  {
   "cell_type": "code",
   "execution_count": 23,
   "id": "301ff222-d069-4ef2-9c89-906bc7ead7d1",
   "metadata": {},
   "outputs": [
    {
     "data": {
      "text/plain": [
       "array([[0.33333333],\n",
       "       [0.33333333]])"
      ]
     },
     "execution_count": 23,
     "metadata": {},
     "output_type": "execute_result"
    }
   ],
   "source": [
    "x"
   ]
  },
  {
   "cell_type": "markdown",
   "id": "2785a518-ad11-412b-8efd-d89cf1e5c528",
   "metadata": {},
   "source": [
    "Use matrix multiplication `@` to verify $Ax = b$."
   ]
  },
  {
   "cell_type": "code",
   "execution_count": 25,
   "id": "027c6dd4-4321-488a-962d-ee70f5588c42",
   "metadata": {},
   "outputs": [
    {
     "data": {
      "text/plain": [
       "array([[1.],\n",
       "       [1.]])"
      ]
     },
     "execution_count": 25,
     "metadata": {},
     "output_type": "execute_result"
    }
   ],
   "source": [
    "A@x"
   ]
  },
  {
   "cell_type": "code",
   "execution_count": 26,
   "id": "379db879-f56b-49d7-acf4-e7be011b2f31",
   "metadata": {},
   "outputs": [
    {
     "data": {
      "text/plain": [
       "array([[1.],\n",
       "       [1.]])"
      ]
     },
     "execution_count": 26,
     "metadata": {},
     "output_type": "execute_result"
    }
   ],
   "source": [
    "np.dot(A,x)"
   ]
  },
  {
   "cell_type": "markdown",
   "id": "2c4cb675-73a4-482a-81de-740799ec2652",
   "metadata": {},
   "source": [
    "Note that the output `x` will be the same shape as `b`. So we could enter `b` as a 1-dimensional array and `x` would return as a 1-dimensional array."
   ]
  },
  {
   "cell_type": "code",
   "execution_count": 27,
   "id": "4956161b-405c-4917-b087-d679add3ae1f",
   "metadata": {},
   "outputs": [
    {
     "data": {
      "text/plain": [
       "array([1., 1.])"
      ]
     },
     "execution_count": 27,
     "metadata": {},
     "output_type": "execute_result"
    }
   ],
   "source": [
    "b = np.array([1.,1.])\n",
    "b"
   ]
  },
  {
   "cell_type": "code",
   "execution_count": 28,
   "id": "bb4ac91f-fbb2-425e-9880-4f7325ba2b52",
   "metadata": {},
   "outputs": [
    {
     "data": {
      "text/plain": [
       "array([0.33333333, 0.33333333])"
      ]
     },
     "execution_count": 28,
     "metadata": {},
     "output_type": "execute_result"
    }
   ],
   "source": [
    "x = la.solve(A,b)\n",
    "x"
   ]
  },
  {
   "cell_type": "markdown",
   "id": "fb0ca6e9-dfc9-4558-b83b-c8ab9d2eff71",
   "metadata": {},
   "source": [
    "## Interpolation"
   ]
  },
  {
   "cell_type": "code",
   "execution_count": 29,
   "id": "80a36a32-bda0-4f28-b830-2a409dca2aca",
   "metadata": {},
   "outputs": [
    {
     "data": {
      "image/png": "[encoded data removed]",
      "text/plain": [
       "<Figure size 640x480 with 1 Axes>"
      ]
     },
     "metadata": {},
     "output_type": "display_data"
    }
   ],
   "source": [
    "x = np.array([0.,1.,2.,3.])\n",
    "y = np.array([8.,24.,11.,7.])\n",
    "plt.plot(x,y,'.')\n",
    "plt.show()"
   ]
  },
  {
   "cell_type": "code",
   "execution_count": 30,
   "id": "ba962c67-f1bf-4ce9-a75a-91145055b68d",
   "metadata": {},
   "outputs": [
    {
     "data": {
      "text/plain": [
       "array([[ 1.,  0.,  0.,  0.],\n",
       "       [ 1.,  1.,  1.,  1.],\n",
       "       [ 1.,  2.,  4.,  8.],\n",
       "       [ 1.,  3.,  9., 27.]])"
      ]
     },
     "execution_count": 30,
     "metadata": {},
     "output_type": "execute_result"
    }
   ],
   "source": [
    "A = np.vander(x,increasing=True)\n",
    "A"
   ]
  },
  {
   "cell_type": "code",
   "execution_count": 31,
   "id": "20848b67-4548-4ffa-b745-95dcf5a7b307",
   "metadata": {},
   "outputs": [],
   "source": [
    "c = la.solve(A,y)"
   ]
  },
  {
   "cell_type": "code",
   "execution_count": 32,
   "id": "9bbad9c5-5d9a-4ba2-9ecf-b23fc9ed3f54",
   "metadata": {},
   "outputs": [
    {
     "data": {
      "text/plain": [
       "array([  8.        ,  43.16666667, -33.5       ,   6.33333333])"
      ]
     },
     "execution_count": 32,
     "metadata": {},
     "output_type": "execute_result"
    }
   ],
   "source": [
    "c"
   ]
  },
  {
   "cell_type": "code",
   "execution_count": 33,
   "id": "36df6bb7-505b-4ca9-8e1c-967c6d7ab738",
   "metadata": {},
   "outputs": [
    {
     "data": {
      "image/png": "[encoded data removed]",
      "text/plain": [
       "<Figure size 640x480 with 1 Axes>"
      ]
     },
     "metadata": {},
     "output_type": "display_data"
    }
   ],
   "source": [
    "xs = np.linspace(0,3,100)\n",
    "ys = c[0] + c[1]*xs + c[2]*xs**2 + c[3]*xs**3\n",
    "plt.plot(x,y,'.',xs,ys)\n",
    "plt.show()"
   ]
  }
 ],
 "metadata": {
  "kernelspec": {
   "display_name": "Python 3 (ipykernel)",
   "language": "python",
   "name": "python3"
  },
  "language_info": {
   "codemirror_mode": {
    "name": "ipython",
    "version": 3
   },
   "file_extension": ".py",
   "mimetype": "text/x-python",
   "name": "python",
   "nbconvert_exporter": "python",
   "pygments_lexer": "ipython3",
   "version": "3.12.8"
  }
 },
 "nbformat": 4,
 "nbformat_minor": 5
}
