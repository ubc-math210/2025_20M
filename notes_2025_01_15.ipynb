{
 "cells": [
  {
   "cell_type": "markdown",
   "id": "20648c3d-b5b7-44f6-8bdb-2ef3576854ac",
   "metadata": {},
   "source": [
    "# MATH 210 Introduction to Mathematical Computing\n",
    "\n",
    "**January 15, 2025**\n",
    "\n",
    "* Indexing and Slicing\n",
    "* List Comprehensions\n",
    "* Examples"
   ]
  },
  {
   "cell_type": "markdown",
   "id": "de0e3c17-77f2-402c-b94c-57aa8b9fbe68",
   "metadata": {},
   "source": [
    "## Indexing and Slicing\n",
    "\n",
    "Access entry of list `listname` at index `i` with syntax `listname[i]`. Recall Python uses 0-indexing and so sequences begin at index 0."
   ]
  },
  {
   "cell_type": "code",
   "execution_count": 1,
   "id": "11380491-f332-47be-91eb-798b1d8f744c",
   "metadata": {},
   "outputs": [],
   "source": [
    "odd = [1,3,5,7,9,11,13,15,17]"
   ]
  },
  {
   "cell_type": "code",
   "execution_count": 2,
   "id": "70ba085b-7d36-44ce-aff8-9866c2cc7b6a",
   "metadata": {},
   "outputs": [
    {
     "data": {
      "text/plain": [
       "1"
      ]
     },
     "execution_count": 2,
     "metadata": {},
     "output_type": "execute_result"
    }
   ],
   "source": [
    "odd[0]"
   ]
  },
  {
   "cell_type": "code",
   "execution_count": 4,
   "id": "a9a86baa-b038-45c9-a4c1-fa30bff217bd",
   "metadata": {},
   "outputs": [
    {
     "data": {
      "text/plain": [
       "9"
      ]
     },
     "execution_count": 4,
     "metadata": {},
     "output_type": "execute_result"
    }
   ],
   "source": [
    "odd[4]"
   ]
  },
  {
   "cell_type": "markdown",
   "id": "ce676410-26d3-4884-8195-8ebc30d9ea26",
   "metadata": {},
   "source": [
    "We can also access entries counting from the end of the sequence using negative indices."
   ]
  },
  {
   "cell_type": "code",
   "execution_count": 5,
   "id": "a05e2b9d-21c2-4ac0-b676-c970bc91446e",
   "metadata": {},
   "outputs": [
    {
     "data": {
      "text/plain": [
       "17"
      ]
     },
     "execution_count": 5,
     "metadata": {},
     "output_type": "execute_result"
    }
   ],
   "source": [
    "odd[-1]"
   ]
  },
  {
   "cell_type": "code",
   "execution_count": 6,
   "id": "a1305365-4b6a-4e85-b0ec-d31035640b51",
   "metadata": {},
   "outputs": [
    {
     "data": {
      "text/plain": [
       "13"
      ]
     },
     "execution_count": 6,
     "metadata": {},
     "output_type": "execute_result"
    }
   ],
   "source": [
    "odd[-3]"
   ]
  },
  {
   "cell_type": "markdown",
   "id": "c12669ff-8af4-43b1-977e-2496d9eaa5b2",
   "metadata": {},
   "source": [
    "Select a subsequence from a sequence using syntax `listname[a:b]`. This selects entries of `listname` starting from index `a` upto (not including) index `b`."
   ]
  },
  {
   "cell_type": "code",
   "execution_count": 8,
   "id": "1e462d73-2eeb-49b7-bdc5-076ff9b3ee6f",
   "metadata": {},
   "outputs": [
    {
     "data": {
      "text/plain": [
       "[3, 5, 7]"
      ]
     },
     "execution_count": 8,
     "metadata": {},
     "output_type": "execute_result"
    }
   ],
   "source": [
    "odd[1:4]"
   ]
  },
  {
   "cell_type": "markdown",
   "id": "e13e37af-e1e1-4cff-8673-7ed49379a78c",
   "metadata": {},
   "source": [
    "We can drop `a` to select the sequence up to index `b`. Or drop `b` to select the sequence from `a` to the end."
   ]
  },
  {
   "cell_type": "code",
   "execution_count": 9,
   "id": "658b4b3c-19e9-4fc0-abd3-ca7ef39db780",
   "metadata": {},
   "outputs": [
    {
     "data": {
      "text/plain": [
       "[5, 7, 9, 11, 13, 15, 17]"
      ]
     },
     "execution_count": 9,
     "metadata": {},
     "output_type": "execute_result"
    }
   ],
   "source": [
    "odd[2:]"
   ]
  },
  {
   "cell_type": "code",
   "execution_count": 12,
   "id": "6acec638-68d3-4515-aa41-7e3b1c37f4a6",
   "metadata": {},
   "outputs": [
    {
     "data": {
      "text/plain": [
       "[1, 3, 5, 7, 9, 11]"
      ]
     },
     "execution_count": 12,
     "metadata": {},
     "output_type": "execute_result"
    }
   ],
   "source": [
    "odd[:6]"
   ]
  },
  {
   "cell_type": "code",
   "execution_count": 13,
   "id": "69801c82-b807-44a2-9db5-5ca1f657a81d",
   "metadata": {},
   "outputs": [
    {
     "data": {
      "text/plain": [
       "[1, 3, 5, 7, 9, 11, 13]"
      ]
     },
     "execution_count": 13,
     "metadata": {},
     "output_type": "execute_result"
    }
   ],
   "source": [
    "odd[:-2]"
   ]
  },
  {
   "cell_type": "markdown",
   "id": "6e03273a-99a8-41e2-926d-da193c77e2c1",
   "metadata": {},
   "source": [
    "## List Comprehensions\n",
    "\n",
    "A list comprehension is a Python construction that allows us to efficiently define lists. The syntax is:\n",
    "\n",
    "```\n",
    "seq = [expression for item in iterable]\n",
    "```\n",
    "\n",
    "where\n",
    "\n",
    "* `seq` is the variable name given to the list contructed on the right of `=`\n",
    "* `expression` is any Python code using variable name `item`\n",
    "* `for` and `in` are keywords for the contruction\n",
    "* `item` is a variable name\n",
    "* `iterable` is any sequence\n",
    "\n",
    "The result is the list of values, one entry for each value in `iterable`, where `expression` is computed for each value in `iterable`.\n",
    "\n",
    "For example, construct the list of squares from 0 to 100."
   ]
  },
  {
   "cell_type": "code",
   "execution_count": 16,
   "id": "c353e28e-25c4-445a-9cf9-7a9d252d7a63",
   "metadata": {},
   "outputs": [
    {
     "name": "stdout",
     "output_type": "stream",
     "text": [
      "[0, 1, 4, 9, 16, 25, 36, 49, 64, 81, 100]\n"
     ]
    }
   ],
   "source": [
    "squares = [n**2 for n in range(11)]\n",
    "print(squares)"
   ]
  },
  {
   "cell_type": "markdown",
   "id": "236a61d4-06aa-4863-9ff4-978070c87c00",
   "metadata": {},
   "source": [
    "Construct the sequence 0.0, 0.1, 0.2, 0.3, ... , 1.0, using a list comprehension."
   ]
  },
  {
   "cell_type": "code",
   "execution_count": 19,
   "id": "c6779627-cabd-4a94-a448-3bd3bb84f2a1",
   "metadata": {},
   "outputs": [
    {
     "name": "stdout",
     "output_type": "stream",
     "text": [
      "[0.0, 0.1, 0.2, 0.3, 0.4, 0.5, 0.6, 0.7, 0.8, 0.9, 1.0]\n"
     ]
    }
   ],
   "source": [
    "x = [n/10 for n in range(0,11)]\n",
    "print(x)"
   ]
  },
  {
   "cell_type": "markdown",
   "id": "164cfc80-3da6-4b99-9023-1373d76095eb",
   "metadata": {},
   "source": [
    "Construct the sequence $y_n = f(x_n)$, $x_n = nh$, $h = 0.1$, $n=0,\\dots,10$, and $f(x) = 1/(x^2 + 1)$. Use the sequence to compute\n",
    "\n",
    "$$\n",
    "\\frac{1}{10} \\sum_{n=1}^{10} \\frac{1}{x_n^2 + 1}\n",
    "$$"
   ]
  },
  {
   "cell_type": "code",
   "execution_count": 26,
   "id": "b0d90ec1-63de-429c-873f-6f48a1339515",
   "metadata": {},
   "outputs": [
    {
     "name": "stdout",
     "output_type": "stream",
     "text": [
      "[0.9900990099009901, 0.9615384615384615, 0.9174311926605504, 0.8620689655172413, 0.8, 0.7352941176470588, 0.6711409395973154, 0.6097560975609756, 0.5524861878453039, 0.5]\n"
     ]
    }
   ],
   "source": [
    "h = 0.1\n",
    "y = [1/((n*h)**2 + 1) for n in range(1,11)]\n",
    "print(y)"
   ]
  },
  {
   "cell_type": "code",
   "execution_count": 27,
   "id": "4c8088ce-9709-407a-b610-fa80c45f0e23",
   "metadata": {},
   "outputs": [
    {
     "name": "stdout",
     "output_type": "stream",
     "text": [
      "[0.9900990099009901, 0.9615384615384615, 0.9174311926605504, 0.8620689655172413, 0.8, 0.7352941176470588, 0.6711409395973154, 0.6097560975609756, 0.5524861878453039, 0.5]\n"
     ]
    }
   ],
   "source": [
    "h = 0.1\n",
    "x = [n*h for n in range(1,11)]\n",
    "y = [1/(xn**2 + 1) for xn in x]\n",
    "print(y)"
   ]
  },
  {
   "cell_type": "code",
   "execution_count": 28,
   "id": "5b68b150-8bfc-413a-97d7-e971f36e3906",
   "metadata": {},
   "outputs": [
    {
     "data": {
      "text/plain": [
       "0.7599814972267898"
      ]
     },
     "execution_count": 28,
     "metadata": {},
     "output_type": "execute_result"
    }
   ],
   "source": [
    "h*sum(y)"
   ]
  },
  {
   "cell_type": "code",
   "execution_count": 29,
   "id": "8b175a26-08c6-4da9-bab6-b5c663fe8cb3",
   "metadata": {},
   "outputs": [
    {
     "data": {
      "text/plain": [
       "10"
      ]
     },
     "execution_count": 29,
     "metadata": {},
     "output_type": "execute_result"
    }
   ],
   "source": [
    "len(y)"
   ]
  },
  {
   "cell_type": "code",
   "execution_count": 30,
   "id": "a3d547c2-7f9d-4bd9-a329-d1e239980564",
   "metadata": {},
   "outputs": [
    {
     "data": {
      "text/plain": [
       "0.7853975"
      ]
     },
     "execution_count": 30,
     "metadata": {},
     "output_type": "execute_result"
    }
   ],
   "source": [
    "3.14159/4"
   ]
  },
  {
   "cell_type": "code",
   "execution_count": 35,
   "id": "fdfb7411-5078-4e91-b45a-806c7d929285",
   "metadata": {},
   "outputs": [
    {
     "name": "stdout",
     "output_type": "stream",
     "text": [
      "0.7853956633932816\n"
     ]
    }
   ],
   "source": [
    "N = 100000\n",
    "h = 1/N\n",
    "x = [n*h for n in range(0,N+1)]\n",
    "y = [1/(xn**2 + 1) for xn in x]\n",
    "I = h*sum(y[1:])\n",
    "print(I)"
   ]
  }
 ],
 "metadata": {
  "kernelspec": {
   "display_name": "Python 3 (ipykernel)",
   "language": "python",
   "name": "python3"
  },
  "language_info": {
   "codemirror_mode": {
    "name": "ipython",
    "version": 3
   },
   "file_extension": ".py",
   "mimetype": "text/x-python",
   "name": "python",
   "nbconvert_exporter": "python",
   "pygments_lexer": "ipython3",
   "version": "3.12.8"
  }
 },
 "nbformat": 4,
 "nbformat_minor": 5
}
