{
 "cells": [
  {
   "cell_type": "markdown",
   "id": "d5a9d8a4-e3c7-4cd1-a3de-0878d9e9072f",
   "metadata": {},
   "source": [
    "# MATH 210 Introduction to Mathematical Computing\n",
    "\n",
    "**April 7, 2025**"
   ]
  },
  {
   "cell_type": "code",
   "execution_count": 2,
   "id": "73ff7449-1613-4fd7-b2b4-049479e15660",
   "metadata": {},
   "outputs": [],
   "source": [
    "import numpy as np\n",
    "import scipy.linalg as la"
   ]
  },
  {
   "cell_type": "markdown",
   "id": "90ab63e4-ef02-4d78-8e22-70271f5034f5",
   "metadata": {},
   "source": [
    "## Power Method"
   ]
  },
  {
   "cell_type": "code",
   "execution_count": 3,
   "id": "d21847a9-8796-4c07-9ad5-7cea55520e26",
   "metadata": {},
   "outputs": [
    {
     "data": {
      "text/plain": [
       "array([[1., 2.],\n",
       "       [2., 1.]])"
      ]
     },
     "execution_count": 3,
     "metadata": {},
     "output_type": "execute_result"
    }
   ],
   "source": [
    "A = np.array([[1.,2.],[2.,1.]])\n",
    "A"
   ]
  },
  {
   "cell_type": "code",
   "execution_count": 4,
   "id": "7f3961da-01d7-47f3-a9a2-a8c7676bf7b2",
   "metadata": {},
   "outputs": [],
   "source": [
    "evals,evecs = la.eig(A)"
   ]
  },
  {
   "cell_type": "code",
   "execution_count": 5,
   "id": "6047d4ce-5318-43f4-8aa9-9ce61ba1ea95",
   "metadata": {},
   "outputs": [
    {
     "data": {
      "text/plain": [
       "array([ 3., -1.])"
      ]
     },
     "execution_count": 5,
     "metadata": {},
     "output_type": "execute_result"
    }
   ],
   "source": [
    "evals.real"
   ]
  },
  {
   "cell_type": "code",
   "execution_count": 6,
   "id": "eda2a5b7-ed57-46d5-af9f-ffc2a1e9f451",
   "metadata": {},
   "outputs": [
    {
     "name": "stdout",
     "output_type": "stream",
     "text": [
      "[[0.99999986]\n",
      " [1.        ]]\n"
     ]
    }
   ],
   "source": [
    "xk = np.array([[1.],[0.]])\n",
    "for k in range(15):\n",
    "    y = A@xk\n",
    "    #xk = y/la.norm(y)\n",
    "    xk = y/np.max(np.abs(y))\n",
    "\n",
    "print(xk)"
   ]
  },
  {
   "cell_type": "code",
   "execution_count": 10,
   "id": "dd81f4c4-f8c1-4f7a-b8b6-8b5f43ed1cc0",
   "metadata": {},
   "outputs": [
    {
     "data": {
      "text/plain": [
       "array([[3.]])"
      ]
     },
     "execution_count": 10,
     "metadata": {},
     "output_type": "execute_result"
    }
   ],
   "source": [
    "xk.T@A@xk/(xk.T@xk)"
   ]
  },
  {
   "cell_type": "code",
   "execution_count": 11,
   "id": "5e1b18da-01d3-4ba0-a552-2b04ddbc01ca",
   "metadata": {},
   "outputs": [
    {
     "name": "stdout",
     "output_type": "stream",
     "text": [
      "[[0.70731707]\n",
      " [1.        ]\n",
      " [0.70689655]]\n"
     ]
    }
   ],
   "source": [
    "A = np.array([[1.,1.,0.],[1.,1.,1.],[0.,1.,1.,]])\n",
    "xk = np.array([[1.],[0.],[0.]])\n",
    "\n",
    "for k in range(10):\n",
    "    y = A@xk\n",
    "    xk = y/np.max(np.abs(y))\n",
    "\n",
    "print(xk)"
   ]
  },
  {
   "cell_type": "code",
   "execution_count": 12,
   "id": "dfcce77c-a1e3-4126-8f2d-fd56b1413379",
   "metadata": {},
   "outputs": [
    {
     "name": "stdout",
     "output_type": "stream",
     "text": [
      "[[2.4142135]]\n"
     ]
    }
   ],
   "source": [
    "print(xk.T@A@xk/(xk.T@xk))"
   ]
  }
 ],
 "metadata": {
  "kernelspec": {
   "display_name": "Python 3 (ipykernel)",
   "language": "python",
   "name": "python3"
  },
  "language_info": {
   "codemirror_mode": {
    "name": "ipython",
    "version": 3
   },
   "file_extension": ".py",
   "mimetype": "text/x-python",
   "name": "python",
   "nbconvert_exporter": "python",
   "pygments_lexer": "ipython3",
   "version": "3.12.8"
  }
 },
 "nbformat": 4,
 "nbformat_minor": 5
}
