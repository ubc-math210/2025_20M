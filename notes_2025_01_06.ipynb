{
 "cells": [
  {
   "cell_type": "markdown",
   "id": "4e0ba612-962b-479a-b290-f2190df5167b",
   "metadata": {},
   "source": [
    "# MATH 210 Introduction to Mathematical Computing\n",
    "\n",
    "**January 6, 2025**\n",
    "\n",
    "* JupyterLab\n",
    "* Cells\n",
    "* Markdown"
   ]
  },
  {
   "cell_type": "markdown",
   "id": "23c8eef2-923b-4cb2-b597-9aa4d501dd42",
   "metadata": {},
   "source": [
    "## Cells\n",
    "\n",
    "There are 2 kinds of cells: code cells and markdown cells. We write Python code in code cells and text/Markdown in markdown cells.\n",
    "\n",
    "Execute a cell using `SHIFT+ENTER`."
   ]
  },
  {
   "cell_type": "markdown",
   "id": "85073f9d-c0b9-4c9e-b133-81a6d3f55162",
   "metadata": {},
   "source": [
    "## Markdown\n",
    "\n",
    "Makrdown is a simple text-to-HTML language. We create headers, lists, links, images, text formatting, and any other HTML."
   ]
  },
  {
   "cell_type": "markdown",
   "id": "1f4cecff-4773-496c-b69c-92d6c1630995",
   "metadata": {},
   "source": [
    "For example, let's create a numbered list of our favourite MATH courses:\n",
    "\n",
    "* MATH 210 Introduction to Mathematical Computing\n",
    "* MATH 307 Applied Linear Algebra\n",
    "* MATH 441 Discrete Optimization Problems"
   ]
  },
  {
   "cell_type": "markdown",
   "id": "dc53f79a-b263-48b2-9798-a950528a4378",
   "metadata": {},
   "source": [
    "Create a link with the syntax `[link text](URL)`. For example, check out the [UBC MATH coursemap](https://ubcmath.github.io/coursemap)."
   ]
  }
 ],
 "metadata": {
  "kernelspec": {
   "display_name": "Python 3 (ipykernel)",
   "language": "python",
   "name": "python3"
  },
  "language_info": {
   "codemirror_mode": {
    "name": "ipython",
    "version": 3
   },
   "file_extension": ".py",
   "mimetype": "text/x-python",
   "name": "python",
   "nbconvert_exporter": "python",
   "pygments_lexer": "ipython3",
   "version": "3.12.8"
  }
 },
 "nbformat": 4,
 "nbformat_minor": 5
}
