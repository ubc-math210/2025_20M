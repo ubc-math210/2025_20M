{
 "cells": [
  {
   "cell_type": "markdown",
   "id": "1ba75904-f426-48ea-a520-f12fbe57e7aa",
   "metadata": {},
   "source": [
    "# MATH 210 Introduction to Mathematical Computing\n",
    "\n",
    "**January 22, 2024**\n",
    "\n",
    "* Boolean Values\n",
    "* Comparison Operators\n",
    "* Boolean Operators\n",
    "* `if` Statements\n",
    "* Examples"
   ]
  },
  {
   "cell_type": "markdown",
   "id": "78050bee-26f8-4c12-a6a0-d4adee4befbc",
   "metadata": {},
   "source": [
    "## Boolean Values\n",
    "\n",
    "There are 2 boolean values: `True` and `False`."
   ]
  },
  {
   "cell_type": "code",
   "execution_count": 1,
   "id": "b7349c94-f8c3-4249-8f58-d81f967c3a3b",
   "metadata": {},
   "outputs": [],
   "source": [
    "math_is_cool = True"
   ]
  },
  {
   "cell_type": "code",
   "execution_count": 2,
   "id": "aefef99c-6601-449f-87c5-e132a7b4e8fd",
   "metadata": {},
   "outputs": [
    {
     "name": "stdout",
     "output_type": "stream",
     "text": [
      "True\n"
     ]
    }
   ],
   "source": [
    "print(math_is_cool)"
   ]
  },
  {
   "cell_type": "code",
   "execution_count": 3,
   "id": "3592d07c-945c-4533-8f1b-56667c87336a",
   "metadata": {},
   "outputs": [
    {
     "data": {
      "text/plain": [
       "bool"
      ]
     },
     "execution_count": 3,
     "metadata": {},
     "output_type": "execute_result"
    }
   ],
   "source": [
    "type(math_is_cool)"
   ]
  },
  {
   "cell_type": "code",
   "execution_count": 4,
   "id": "f554b6e2-114f-49d8-9dae-d8c12f94b909",
   "metadata": {},
   "outputs": [],
   "source": [
    "vancouver_is_sunny = False"
   ]
  },
  {
   "cell_type": "code",
   "execution_count": 5,
   "id": "481fca1b-80c3-4f5d-90bb-b1dfc8082a4d",
   "metadata": {},
   "outputs": [
    {
     "name": "stdout",
     "output_type": "stream",
     "text": [
      "False\n"
     ]
    }
   ],
   "source": [
    "print(vancouver_is_sunny)"
   ]
  },
  {
   "cell_type": "code",
   "execution_count": 6,
   "id": "9f573f34-4e7d-4ce4-b9fa-dde2201d9908",
   "metadata": {},
   "outputs": [
    {
     "data": {
      "text/plain": [
       "bool"
      ]
     },
     "execution_count": 6,
     "metadata": {},
     "output_type": "execute_result"
    }
   ],
   "source": [
    "type(vancouver_is_sunny)"
   ]
  },
  {
   "cell_type": "markdown",
   "id": "63f9b8b2-8dbe-41e6-81a5-493e62a4ab43",
   "metadata": {},
   "source": [
    "## Comparison Operators\n",
    "\n",
    "Numerical comparison operators: `<`, `>`, `<=`, `>=`, `==`, `!=`."
   ]
  },
  {
   "cell_type": "code",
   "execution_count": 7,
   "id": "9587e380-e46c-4963-9e1b-551a8c0a67ed",
   "metadata": {},
   "outputs": [
    {
     "data": {
      "text/plain": [
       "True"
      ]
     },
     "execution_count": 7,
     "metadata": {},
     "output_type": "execute_result"
    }
   ],
   "source": [
    "1 < 2"
   ]
  },
  {
   "cell_type": "code",
   "execution_count": 8,
   "id": "03bc4647-6889-4993-9f30-90c67e6666c9",
   "metadata": {},
   "outputs": [
    {
     "data": {
      "text/plain": [
       "True"
      ]
     },
     "execution_count": 8,
     "metadata": {},
     "output_type": "execute_result"
    }
   ],
   "source": [
    "3.14159 >= 3.14"
   ]
  },
  {
   "cell_type": "code",
   "execution_count": 9,
   "id": "cac514e9-e54e-4ec5-806c-608c739a77d5",
   "metadata": {},
   "outputs": [
    {
     "name": "stdout",
     "output_type": "stream",
     "text": [
      "True\n"
     ]
    }
   ],
   "source": [
    "x1 = 1 + 2 + 3 + 4\n",
    "x2 = 10\n",
    "result = (x1 == x2)\n",
    "print(result)"
   ]
  },
  {
   "cell_type": "code",
   "execution_count": 10,
   "id": "893c2465-7722-4ba4-b97a-4c8e2ce02bcf",
   "metadata": {},
   "outputs": [
    {
     "data": {
      "text/plain": [
       "bool"
      ]
     },
     "execution_count": 10,
     "metadata": {},
     "output_type": "execute_result"
    }
   ],
   "source": [
    "type(result)"
   ]
  },
  {
   "cell_type": "markdown",
   "id": "27a5f0cc-1ed1-446d-a188-4887f1997b89",
   "metadata": {},
   "source": [
    "Use the exact equality comparison `==` only for integers (or boolean values). Don't use it to compare floats because floating point numbers have rounding errors."
   ]
  },
  {
   "cell_type": "code",
   "execution_count": 11,
   "id": "61825dc7-49df-49c9-9f78-b072d3c45f5b",
   "metadata": {},
   "outputs": [
    {
     "name": "stdout",
     "output_type": "stream",
     "text": [
      "False\n"
     ]
    }
   ],
   "source": [
    "y1 = 0.1 + 0.2\n",
    "y2 = 0.3\n",
    "result = (y1 == y2)\n",
    "print(result)"
   ]
  },
  {
   "cell_type": "code",
   "execution_count": 12,
   "id": "afc02024-f11d-424b-8853-1e20a3daa772",
   "metadata": {},
   "outputs": [
    {
     "name": "stdout",
     "output_type": "stream",
     "text": [
      "0.30000000000000004\n"
     ]
    }
   ],
   "source": [
    "print(y1)"
   ]
  },
  {
   "cell_type": "markdown",
   "id": "484f410a-a28f-457c-9eea-9a187566d798",
   "metadata": {},
   "source": [
    "Instead, use abolute tolerance like $|x - y| < \\epsilon$ or a relative tolerance\n",
    "\n",
    "$$\n",
    "\\frac{|x - y|}{|x|} < \\epsilon\n",
    "$$"
   ]
  },
  {
   "cell_type": "code",
   "execution_count": 13,
   "id": "6e90a005-e5f3-42bb-9a64-48990660a910",
   "metadata": {},
   "outputs": [
    {
     "name": "stdout",
     "output_type": "stream",
     "text": [
      "True\n"
     ]
    }
   ],
   "source": [
    "y1 = 0.1 + 0.2\n",
    "y2 = 0.3\n",
    "epsilon = 1e-12\n",
    "result = (abs(y1 - y2) < epsilon)\n",
    "print(result)"
   ]
  },
  {
   "cell_type": "markdown",
   "id": "a70776b7-9d0b-4bc0-87ef-9e28eb2b3b7e",
   "metadata": {},
   "source": [
    "## Boolean Operators\n",
    "\n",
    "Combine boolean values and comparison operators using `and`, `or` and `not`."
   ]
  },
  {
   "cell_type": "code",
   "execution_count": 14,
   "id": "06bba4d3-b179-4d2c-8098-cbc4a9dc81b0",
   "metadata": {},
   "outputs": [
    {
     "data": {
      "text/plain": [
       "True"
      ]
     },
     "execution_count": 14,
     "metadata": {},
     "output_type": "execute_result"
    }
   ],
   "source": [
    "(1 < 2) and (3 < 4)"
   ]
  },
  {
   "cell_type": "code",
   "execution_count": 15,
   "id": "3cac2f89-6550-4e21-9d56-3017b1e53c14",
   "metadata": {},
   "outputs": [
    {
     "data": {
      "text/plain": [
       "False"
      ]
     },
     "execution_count": 15,
     "metadata": {},
     "output_type": "execute_result"
    }
   ],
   "source": [
    "(1 < 2) and (3 > 4)"
   ]
  },
  {
   "cell_type": "code",
   "execution_count": 16,
   "id": "e0d5343a-ef42-4a69-bb1d-6d5297869ce3",
   "metadata": {},
   "outputs": [
    {
     "data": {
      "text/plain": [
       "True"
      ]
     },
     "execution_count": 16,
     "metadata": {},
     "output_type": "execute_result"
    }
   ],
   "source": [
    "(1 < 2) or (3 > 4)"
   ]
  },
  {
   "cell_type": "markdown",
   "id": "aabe87c3-6677-45f3-b2e2-1c9fc7483ec8",
   "metadata": {},
   "source": [
    "## `if` Statements\n",
    "\n",
    "An `if` statement allows us to execute different blocks of code depending on the state of some variables. Syntax is:\n",
    "\n",
    "```\n",
    "if boolean1:\n",
    "    Python code block 1\n",
    "elif boolean2:\n",
    "    Python code block 2\n",
    "else:\n",
    "    Python code block 3\n",
    "```\n",
    "\n",
    "where:\n",
    "\n",
    "* `if` keyword starts the statement\n",
    "* `:` ends each `if`, `elif` and `else` statement\n",
    "* execute code block 1 if `boolean1` is `True`\n",
    "* execute code block 2 if `boolean2` is `True`\n",
    "* execute code block 3 if none are `True`\n",
    "* execute at most one block in `if` statement\n",
    "* `elif` and `else` statements are optional\n",
    "* you can have as many `elif` statements as you need"
   ]
  },
  {
   "cell_type": "markdown",
   "id": "40f2f91e-99ad-46d2-95fa-8bff386460eb",
   "metadata": {},
   "source": [
    "## Examples\n",
    "\n",
    "Write a function called `poly_diff` which takes `p` (a Python list `[a0,a1,...,ad]` which represents a polynomial $p(x) = a_0 + a_1 x + \\cdots + a_d x^d$ and returns the Python list of coefficients of the derivative $p'(x)$."
   ]
  },
  {
   "cell_type": "code",
   "execution_count": 26,
   "id": "3b4a7883-1781-4369-b453-bb8ea1a9be74",
   "metadata": {},
   "outputs": [],
   "source": [
    "def poly_diff(p):\n",
    "    if len(p) > 1:\n",
    "        dpdx = [p[n]*n for n in range(1,len(p))]\n",
    "    else:\n",
    "        dpdx = [0]\n",
    "    return dpdx"
   ]
  },
  {
   "cell_type": "code",
   "execution_count": 27,
   "id": "7935bb10-15c0-4ec8-a415-ce2ba47267d5",
   "metadata": {},
   "outputs": [
    {
     "name": "stdout",
     "output_type": "stream",
     "text": [
      "[1, 2]\n"
     ]
    }
   ],
   "source": [
    "p1 = [1,1,1] # p(x) = 1 + x + x^2\n",
    "result = poly_diff(p1) # p'(x) = 1 + 2x\n",
    "print(result) # [1,2]"
   ]
  },
  {
   "cell_type": "code",
   "execution_count": 28,
   "id": "f41df6c6-7330-47ae-81b1-bfc6ffbff1fd",
   "metadata": {},
   "outputs": [
    {
     "name": "stdout",
     "output_type": "stream",
     "text": [
      "[0, 0, 0, 4]\n"
     ]
    }
   ],
   "source": [
    "p2 = [1,0,0,0,1] # p(x) = 1 + x^4\n",
    "result = poly_diff(p2) # p'(x) = 4x^3\n",
    "print(result) # [0,0,0,4]"
   ]
  },
  {
   "cell_type": "code",
   "execution_count": 30,
   "id": "b8419d82-fc7d-444d-8ac0-f6cc6ec588e6",
   "metadata": {},
   "outputs": [
    {
     "name": "stdout",
     "output_type": "stream",
     "text": [
      "[0]\n"
     ]
    }
   ],
   "source": [
    "p3 = [1] # p(x) = 1\n",
    "result = poly_diff(p3) # p'(x) = 0\n",
    "print(result) # [0]"
   ]
  },
  {
   "cell_type": "markdown",
   "id": "10469eaa-7910-49a0-9351-d047dd10f18a",
   "metadata": {},
   "source": [
    "Write a function called `poly_anti` which takes `p` (a Python list `[a0,a1,...,ad]` which represents a polynomial $p(x) = a_0 + a_1 x + \\cdots + a_d x^d$) and returns the Python list of coefficients of the antiderivative $P(x) = \\int p(x)dx$ such that $P(0)=0$."
   ]
  }
 ],
 "metadata": {
  "kernelspec": {
   "display_name": "Python 3 (ipykernel)",
   "language": "python",
   "name": "python3"
  },
  "language_info": {
   "codemirror_mode": {
    "name": "ipython",
    "version": 3
   },
   "file_extension": ".py",
   "mimetype": "text/x-python",
   "name": "python",
   "nbconvert_exporter": "python",
   "pygments_lexer": "ipython3",
   "version": "3.12.8"
  }
 },
 "nbformat": 4,
 "nbformat_minor": 5
}
