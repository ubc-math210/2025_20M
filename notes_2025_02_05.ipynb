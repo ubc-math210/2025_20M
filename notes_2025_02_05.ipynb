{
 "cells": [
  {
   "cell_type": "markdown",
   "id": "bb44366d-31c7-4f98-88f8-ad34a75f4722",
   "metadata": {},
   "source": [
    "# MATH 210 Introduction to Mathematical Computing\n",
    "\n",
    "**February 5, 2025**\n",
    "\n",
    "## Secant Method\n",
    "\n",
    "Write a function called `secant` which takes `f`, `a`, `b` and `N`, and returns the $x$-intecept of the secant line after N iterations of the secant method."
   ]
  },
  {
   "cell_type": "code",
   "execution_count": 1,
   "id": "89a06bce-4641-4889-8d71-a6aa5cbe1270",
   "metadata": {},
   "outputs": [],
   "source": [
    "def secant(f,a,b,N):\n",
    "    a_n = a\n",
    "    b_n = b\n",
    "    for n in range(1,N+1):\n",
    "        f_a_n = f(a_n)\n",
    "        f_b_n = f(b_n)\n",
    "        m_n = a_n - f_a_n*(b_n - a_n)/(f_b_n - f_a_n)\n",
    "        f_m_n = f(m_n)\n",
    "        if f_a_n*f_m_n < 0:\n",
    "            b_n = m_n\n",
    "        elif f_b_n*f_m_n < 0:\n",
    "            a_n = m_n\n",
    "        elif f_m_n == 0:\n",
    "            print(\"Found exact solution.\")\n",
    "            return m_n\n",
    "        else:\n",
    "            print(\"Secant method fails.\")\n",
    "            return None\n",
    "    mN = a_n - f(a_n)*(b_n - a_n)/(f(b_n) - f(a_n))\n",
    "    return mN"
   ]
  },
  {
   "cell_type": "code",
   "execution_count": 3,
   "id": "ad641843-570b-41c4-8b68-0f8c5d3cc501",
   "metadata": {},
   "outputs": [
    {
     "data": {
      "text/plain": [
       "1.5596005665485004"
      ]
     },
     "execution_count": 3,
     "metadata": {},
     "output_type": "execute_result"
    }
   ],
   "source": [
    "f = lambda x: x**x - 2\n",
    "a = 1\n",
    "b = 2\n",
    "N = 10\n",
    "\n",
    "secant(f,a,b,N)"
   ]
  }
 ],
 "metadata": {
  "kernelspec": {
   "display_name": "Python 3 (ipykernel)",
   "language": "python",
   "name": "python3"
  },
  "language_info": {
   "codemirror_mode": {
    "name": "ipython",
    "version": 3
   },
   "file_extension": ".py",
   "mimetype": "text/x-python",
   "name": "python",
   "nbconvert_exporter": "python",
   "pygments_lexer": "ipython3",
   "version": "3.12.8"
  }
 },
 "nbformat": 4,
 "nbformat_minor": 5
}
