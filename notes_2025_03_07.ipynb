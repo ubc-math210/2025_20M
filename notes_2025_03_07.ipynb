{
 "cells": [
  {
   "cell_type": "markdown",
   "id": "d3156334-db81-47a7-818a-c89233622d8c",
   "metadata": {},
   "source": [
    "# MATH 210 Introduction to Mathematical Computing\n",
    "\n",
    "**March 7, 2025**"
   ]
  },
  {
   "cell_type": "code",
   "execution_count": 1,
   "id": "087b5f5e-4e57-4a40-b7b2-5f88ef0cdcc7",
   "metadata": {},
   "outputs": [],
   "source": [
    "import numpy as np\n",
    "import matplotlib.pyplot as plt"
   ]
  },
  {
   "cell_type": "markdown",
   "id": "5a5439eb-56e8-4d8b-81f3-a74010c45b2b",
   "metadata": {},
   "source": [
    "## Simpson's Rule\n",
    "\n",
    "$$\n",
    "S_N(f) = \\frac{\\Delta x}{3} \\sum_{m=1}^{N/2} ( f(x_{2m-2}) + 4 f(x_{2m-1}) + f(x_{2m}))\n",
    "$$"
   ]
  },
  {
   "cell_type": "code",
   "execution_count": 2,
   "id": "4995d786-5273-46c3-90b8-3cb2a3c919c4",
   "metadata": {},
   "outputs": [],
   "source": [
    "f = lambda x: 1/np.log(x)\n",
    "a = np.e\n",
    "b = np.e**2\n",
    "N = 10\n",
    "dx = (b - a)/N\n",
    "x = np.linspace(a,b,N+1)\n",
    "y = f(x)"
   ]
  },
  {
   "cell_type": "code",
   "execution_count": 3,
   "id": "8be065d5-9f13-40e5-ba77-a4b1d2741cbc",
   "metadata": {},
   "outputs": [
    {
     "data": {
      "text/plain": [
       "array([1.        , 0.86313667, 0.77196559, 0.70634677, 0.65653969,\n",
       "       0.61724032, 0.58530427, 0.55874411, 0.53623911, 0.51687556,\n",
       "       0.5       ])"
      ]
     },
     "execution_count": 3,
     "metadata": {},
     "output_type": "execute_result"
    }
   ],
   "source": [
    "y"
   ]
  },
  {
   "cell_type": "markdown",
   "id": "ba27b73d-c0ae-4a54-9232-c40475a86f01",
   "metadata": {},
   "source": [
    "Note that the terms $f(x_{2m-2})$ in the sum correspond to all the even indices from 0 up to $N-2$. We can use fancy indexing to select those values. Bascially we just enter the list of indices `[0,2,4,...,N-2]` using `range(0,N,2)`."
   ]
  },
  {
   "cell_type": "code",
   "execution_count": 6,
   "id": "062d95ea-fc29-476e-aad5-2eb726b31b92",
   "metadata": {},
   "outputs": [
    {
     "data": {
      "text/plain": [
       "array([1.        , 0.77196559, 0.65653969, 0.58530427, 0.53623911])"
      ]
     },
     "execution_count": 6,
     "metadata": {},
     "output_type": "execute_result"
    }
   ],
   "source": [
    "# Values at even indices from 0 up to N-2\n",
    "y[range(0,N,2)]"
   ]
  },
  {
   "cell_type": "markdown",
   "id": "1b9acc2e-81f8-4a19-9de5-c6f10e573a0d",
   "metadata": {},
   "source": [
    "The terms $f(x_{2m-1})$ in the sum correspond to all the odd indices from 1 up to $N-1$."
   ]
  },
  {
   "cell_type": "code",
   "execution_count": 7,
   "id": "79c80ff3-7673-44ff-b91e-db0596b7aec9",
   "metadata": {},
   "outputs": [
    {
     "data": {
      "text/plain": [
       "array([0.86313667, 0.70634677, 0.61724032, 0.55874411, 0.51687556])"
      ]
     },
     "execution_count": 7,
     "metadata": {},
     "output_type": "execute_result"
    }
   ],
   "source": [
    "# Values at odd indices up to N-1\n",
    "y[range(1,N,2)]"
   ]
  },
  {
   "cell_type": "markdown",
   "id": "7d27aa5e-31d2-4540-a870-994304898421",
   "metadata": {},
   "source": [
    "The terms $f(x_{2m})$ in the sum correspond to all the even indices from 2 up to $N$."
   ]
  },
  {
   "cell_type": "code",
   "execution_count": 8,
   "id": "b4ac2437-ef65-4a93-bfb1-3bac927e8a55",
   "metadata": {},
   "outputs": [
    {
     "data": {
      "text/plain": [
       "array([0.77196559, 0.65653969, 0.58530427, 0.53623911, 0.5       ])"
      ]
     },
     "execution_count": 8,
     "metadata": {},
     "output_type": "execute_result"
    }
   ],
   "source": [
    "# Values at even indices from 2 up to N\n",
    "y[range(2,N+1,2)]"
   ]
  },
  {
   "cell_type": "code",
   "execution_count": 9,
   "id": "73c22412-5953-4230-be11-0778de6614c4",
   "metadata": {},
   "outputs": [],
   "source": [
    "SN = dx/3*np.sum( y[range(0,N,2)] + 4*y[range(1,N,2)] + y[range(2,N+1,2)] )"
   ]
  },
  {
   "cell_type": "code",
   "execution_count": 10,
   "id": "ce35d740-fb66-4293-bd75-18fec114fcb8",
   "metadata": {},
   "outputs": [
    {
     "data": {
      "text/plain": [
       "3.0592747891369285"
      ]
     },
     "execution_count": 10,
     "metadata": {},
     "output_type": "execute_result"
    }
   ],
   "source": [
    "SN"
   ]
  },
  {
   "cell_type": "code",
   "execution_count": 11,
   "id": "4bba67d1-a92e-4b90-8db8-8e7a019113a4",
   "metadata": {},
   "outputs": [],
   "source": [
    "def simps(f,a,b,N):\n",
    "    dx = (b - a)/N\n",
    "    x = np.linspace(a,b,N+1)\n",
    "    y = f(x)\n",
    "    SN = dx/3*np.sum( y[range(0,N,2)] + 4*y[range(1,N,2)] + y[range(2,N+1,2)] )\n",
    "    return SN"
   ]
  },
  {
   "cell_type": "markdown",
   "id": "6bb6ce4e-05d4-47ba-adb5-1302e41f744e",
   "metadata": {},
   "source": [
    "Compute $K_4$:"
   ]
  },
  {
   "cell_type": "code",
   "execution_count": 12,
   "id": "c00611af-e262-4871-ae4b-1294a7a41b23",
   "metadata": {},
   "outputs": [
    {
     "data": {
      "text/plain": [
       "4.24922822218633"
      ]
     },
     "execution_count": 12,
     "metadata": {},
     "output_type": "execute_result"
    }
   ],
   "source": [
    "K4 = (6*2**3 + 22*2**2 + 36*2 + 24)/np.exp(4)\n",
    "K4"
   ]
  },
  {
   "cell_type": "markdown",
   "id": "78c9b1bf-3bf1-423e-bf7d-52bb14724f9c",
   "metadata": {},
   "source": [
    "Compute $N$:"
   ]
  },
  {
   "cell_type": "code",
   "execution_count": 13,
   "id": "ab9ba1b1-8ad2-4c17-ab40-0108c7193a94",
   "metadata": {},
   "outputs": [
    {
     "data": {
      "text/plain": [
       "8.511291936241985"
      ]
     },
     "execution_count": 13,
     "metadata": {},
     "output_type": "execute_result"
    }
   ],
   "source": [
    "err = 0.01\n",
    "N = ((b - a)**5*K4/err/180)**0.25\n",
    "N"
   ]
  },
  {
   "cell_type": "markdown",
   "id": "d48f4326-4466-4519-bac0-8c533dad4f2c",
   "metadata": {},
   "source": [
    "Therefore $N=10$ guarantees the error is less than 0.01:"
   ]
  },
  {
   "cell_type": "code",
   "execution_count": 14,
   "id": "8f31fa6f-cdc6-4ab0-9874-5cbf7faff39b",
   "metadata": {},
   "outputs": [
    {
     "data": {
      "text/plain": [
       "3.0592747891369285"
      ]
     },
     "execution_count": 14,
     "metadata": {},
     "output_type": "execute_result"
    }
   ],
   "source": [
    "simps(f,a,b,10)"
   ]
  },
  {
   "cell_type": "markdown",
   "id": "60b0052a-5d4d-4979-9345-9f32cdfb85d9",
   "metadata": {},
   "source": [
    "Let's use the function `scipy.integrate.simpson` to compute the value:"
   ]
  },
  {
   "cell_type": "code",
   "execution_count": 15,
   "id": "722f7d7d-32a3-4eda-a7d3-b4c4cfad9410",
   "metadata": {},
   "outputs": [],
   "source": [
    "import scipy.integrate as spi"
   ]
  },
  {
   "cell_type": "code",
   "execution_count": 16,
   "id": "9dad99af-34a8-4b5f-bc2e-5f96c1e98d75",
   "metadata": {},
   "outputs": [
    {
     "data": {
      "text/plain": [
       "3.0592747891369294"
      ]
     },
     "execution_count": 16,
     "metadata": {},
     "output_type": "execute_result"
    }
   ],
   "source": [
    "f = lambda x: 1/np.log(x)\n",
    "a = np.e\n",
    "b = np.e**2\n",
    "N = 10\n",
    "x = np.linspace(a,b,N+1)\n",
    "y = f(x)\n",
    "\n",
    "S = spi.simpson(y,x=x)\n",
    "S"
   ]
  },
  {
   "cell_type": "markdown",
   "id": "155b62ac-b58a-4bc4-8721-a31652bc120e",
   "metadata": {},
   "source": [
    "There is also the function `quad` which uses quadrature to compute the approximation and estimate the error:"
   ]
  },
  {
   "cell_type": "code",
   "execution_count": 17,
   "id": "921ac0c3-e76d-440a-8c2c-d561775c0d60",
   "metadata": {},
   "outputs": [],
   "source": [
    "I,err = spi.quad(f,a,b)"
   ]
  },
  {
   "cell_type": "code",
   "execution_count": 18,
   "id": "32bb746d-62d6-4afb-aece-55c421b4d894",
   "metadata": {},
   "outputs": [
    {
     "data": {
      "text/plain": [
       "3.059116539645953"
      ]
     },
     "execution_count": 18,
     "metadata": {},
     "output_type": "execute_result"
    }
   ],
   "source": [
    "I"
   ]
  },
  {
   "cell_type": "code",
   "execution_count": 19,
   "id": "3c35d5ac-4b1b-4723-aee0-aad214e97c72",
   "metadata": {},
   "outputs": [
    {
     "data": {
      "text/plain": [
       "1.1537798306539157e-11"
      ]
     },
     "execution_count": 19,
     "metadata": {},
     "output_type": "execute_result"
    }
   ],
   "source": [
    "err"
   ]
  }
 ],
 "metadata": {
  "kernelspec": {
   "display_name": "Python 3 (ipykernel)",
   "language": "python",
   "name": "python3"
  },
  "language_info": {
   "codemirror_mode": {
    "name": "ipython",
    "version": 3
   },
   "file_extension": ".py",
   "mimetype": "text/x-python",
   "name": "python",
   "nbconvert_exporter": "python",
   "pygments_lexer": "ipython3",
   "version": "3.12.8"
  }
 },
 "nbformat": 4,
 "nbformat_minor": 5
}
