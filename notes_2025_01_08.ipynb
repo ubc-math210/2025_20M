{
 "cells": [
  {
   "cell_type": "markdown",
   "id": "36fcd8ba-b703-4af8-a7b1-086962228952",
   "metadata": {},
   "source": [
    "# MATH 210 Introduction to Mathematical Computing\n",
    "\n",
    "**January 8, 2025**\n",
    "\n",
    "* Markdown\n",
    "* LaTeX"
   ]
  },
  {
   "cell_type": "markdown",
   "id": "81b1fa44-8b02-4e48-ad6c-5da1756fb485",
   "metadata": {},
   "source": [
    "## Markdown\n",
    "\n",
    "Create **bold**, *emphasis* and `code`."
   ]
  },
  {
   "cell_type": "markdown",
   "id": "94401f62-59df-4f1a-b762-4f010e6ac88f",
   "metadata": {},
   "source": [
    "Create unordered lists with `*`:\n",
    "\n",
    "* Jeff\n",
    "* Malcolm\n",
    "* Siwen\n",
    "* Charlotte\n",
    "* Reeva\n",
    "* Xinping"
   ]
  },
  {
   "cell_type": "markdown",
   "id": "db0f3e9c-d782-4ebd-9abf-06a31b7f9f5a",
   "metadata": {},
   "source": [
    "Create ordered lists with numbers:\n",
    "\n",
    "1. Toronto\n",
    "2. Vancouver\n",
    "3. Calgary\n",
    "4. Saskatoon"
   ]
  },
  {
   "cell_type": "markdown",
   "id": "ac154f63-60b8-4c89-a0b4-4387a4d25792",
   "metadata": {},
   "source": [
    "Create a link with `[link text](url)`. For example, [UBC Math department](https://www.math.ubc.ca)."
   ]
  },
  {
   "cell_type": "markdown",
   "id": "8072b691-d1ac-4592-a587-30adf64ebdc5",
   "metadata": {},
   "source": [
    "Include images with `![alt text](url)`. For example:\n",
    "\n",
    "![cute kitten](https://diamondpet.storage.googleapis.com/wp-content/uploads/2021/03/22094728/kitten-sitting-on-floor-031621.jpg)"
   ]
  },
  {
   "cell_type": "markdown",
   "id": "b6b625d6-7bd9-48a9-9623-27c176f051f0",
   "metadata": {},
   "source": [
    "Create tables:\n",
    "\n",
    "| Operation | Syntax | Description |\n",
    "| :---: | :---: | :---: |\n",
    "| Addition | `+` | Add numbers together |\n",
    "| Multiplication | `*` | Multiply numbers together |\n",
    "| Division | `/` | Divide numbers |"
   ]
  },
  {
   "cell_type": "markdown",
   "id": "a831f356-db66-4e35-bc20-33c0163ea884",
   "metadata": {},
   "source": [
    "## LaTeX\n",
    "\n",
    "Write LaTeX code in dollar signs `$ ... $` to render math equations inline. Use double dollar signs for math equations in their paragraph. For example, let $f(x) = x^2 - x + 1$ and $f'(x) = 2x - 1$."
   ]
  },
  {
   "cell_type": "markdown",
   "id": "adeb9240-8868-427f-820c-35a1748b8e9b",
   "metadata": {},
   "source": [
    "The limit definition of the derivative is\n",
    "\n",
    "$$\n",
    "f'(a) = \\lim_{x \\to a} \\frac{f(x) - f(a)}{x - a}\n",
    "$$"
   ]
  },
  {
   "cell_type": "markdown",
   "id": "4722b9c5-666a-4e09-9642-3104ed221175",
   "metadata": {},
   "source": [
    "Use `_` and `^` for subscripts and superscripts respectively. For example, $x_n$ and $a^b$.\n",
    "\n",
    "Use `\\frac{a}{b}` to create fractions:\n",
    "\n",
    "$$\n",
    "\\frac{a}{b}\n",
    "$$"
   ]
  },
  {
   "cell_type": "markdown",
   "id": "835f62ed-4767-473d-90f2-c743038e3cdf",
   "metadata": {},
   "source": [
    "Use greek letters such as `\\alpha`, `\\beta` and `\\gamma`:\n",
    "\n",
    "$$\n",
    "\\alpha , \\beta , \\gamma\n",
    "$$\n",
    "\n",
    "$$\n",
    "\\Omega, \\Gamma, \\Phi\n",
    "$$"
   ]
  },
  {
   "cell_type": "markdown",
   "id": "06de0525-d184-4a06-a0e3-7eeee62501c1",
   "metadata": {},
   "source": [
    "Use `\\sum` for summation notation. For example:\n",
    "\n",
    "$$\n",
    "\\sum_{n=0}^{N} x^n = \\frac{1 - x^{N+1}}{1 - x}\n",
    "$$"
   ]
  },
  {
   "cell_type": "markdown",
   "id": "b59cc517-69ef-4db3-8847-0f63ff740cbf",
   "metadata": {},
   "source": [
    "Use `\\int` for integrals. For example:\n",
    "\n",
    "$$\n",
    "\\int_a^b f(x) dx = F(b) - F(a)\n",
    "$$"
   ]
  },
  {
   "cell_type": "markdown",
   "id": "71c19d21-587c-419e-be7d-24921a1230be",
   "metadata": {},
   "source": [
    "## Mathematical Equations\n",
    "\n",
    "[Euler's formula](https://en.wikipedia.org/wiki/Euler%27s_formula):\n",
    "\n",
    "$$\n",
    "e^{ix} = \\cos x + i \\sin x\n",
    "$$\n",
    "\n",
    "[Separation of variables](https://www.jirka.org/diffyqs/html/separable_section.html):\n",
    "\n",
    "$$\n",
    "y' = f(x) g(y) \\Rightarrow \\int \\frac{dy}{g(y)} = \\int f(x) dx + C\n",
    "$$\n",
    "\n",
    "[Taylor series](https://en.wikipedia.org/wiki/Taylor_series#List_of_Maclaurin_series_of_some_common_functions) of $f(x) = \\ln(1 + x)$:\n",
    "\n",
    "$$\n",
    "\\ln(1 + x) = \\sum_{n=1}^{\\infty} (-1)^{n+1} \\frac{x^n}{n} = x - \\frac{x^2}{2} + \\frac{x^3}{3} - \\cdots\n",
    "$$"
   ]
  }
 ],
 "metadata": {
  "kernelspec": {
   "display_name": "Python 3 (ipykernel)",
   "language": "python",
   "name": "python3"
  },
  "language_info": {
   "codemirror_mode": {
    "name": "ipython",
    "version": 3
   },
   "file_extension": ".py",
   "mimetype": "text/x-python",
   "name": "python",
   "nbconvert_exporter": "python",
   "pygments_lexer": "ipython3",
   "version": "3.12.8"
  }
 },
 "nbformat": 4,
 "nbformat_minor": 5
}
