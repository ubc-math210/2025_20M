{
 "cells": [
  {
   "cell_type": "markdown",
   "id": "03672196-7a89-4b54-84b8-7cb5d5afccda",
   "metadata": {},
   "source": [
    "# MATH 210 Introduction to Mathematical Computing\n",
    "\n",
    "**January 20, 2025**\n",
    "\n",
    "* More Builtin Functions\n",
    "* Examples"
   ]
  },
  {
   "cell_type": "markdown",
   "id": "1634df5e-12a8-40c9-8370-94bba20d4207",
   "metadata": {},
   "source": [
    "## More Builting Functions\n",
    "\n",
    "A couple more useful builtin functions are `round` and `abs`. The function `round` rounds a number to the nearest decimal place."
   ]
  },
  {
   "cell_type": "code",
   "execution_count": 48,
   "id": "4855b9ad-864a-474b-98a5-5b55617db73e",
   "metadata": {},
   "outputs": [],
   "source": [
    "pi = 3.1415926"
   ]
  },
  {
   "cell_type": "code",
   "execution_count": 49,
   "id": "7812428e-f1ee-4ad5-8f2d-e85926cafaeb",
   "metadata": {},
   "outputs": [
    {
     "data": {
      "text/plain": [
       "3"
      ]
     },
     "execution_count": 49,
     "metadata": {},
     "output_type": "execute_result"
    }
   ],
   "source": [
    "round(pi)"
   ]
  },
  {
   "cell_type": "code",
   "execution_count": 50,
   "id": "87f0f451-41d7-47ec-941d-08228ae890a3",
   "metadata": {},
   "outputs": [
    {
     "data": {
      "text/plain": [
       "3.14"
      ]
     },
     "execution_count": 50,
     "metadata": {},
     "output_type": "execute_result"
    }
   ],
   "source": [
    "round(pi,2)"
   ]
  },
  {
   "cell_type": "code",
   "execution_count": 51,
   "id": "729be81a-adc9-4305-9b18-dd1934fc9712",
   "metadata": {},
   "outputs": [
    {
     "data": {
      "text/plain": [
       "3.142"
      ]
     },
     "execution_count": 51,
     "metadata": {},
     "output_type": "execute_result"
    }
   ],
   "source": [
    "round(pi,3)"
   ]
  },
  {
   "cell_type": "markdown",
   "id": "e8e97886-b865-467f-845b-a6c8515dfff2",
   "metadata": {},
   "source": [
    "Notice that `round` takes at least 1 input (that is the number to round) but then there is an optinal parameter to specify the number of decimal values."
   ]
  },
  {
   "cell_type": "code",
   "execution_count": 52,
   "id": "468179b5-5321-470d-bf85-d3957ad62ae7",
   "metadata": {},
   "outputs": [
    {
     "data": {
      "text/plain": [
       "\u001b[0;31mSignature:\u001b[0m \u001b[0mround\u001b[0m\u001b[0;34m(\u001b[0m\u001b[0mnumber\u001b[0m\u001b[0;34m,\u001b[0m \u001b[0mndigits\u001b[0m\u001b[0;34m=\u001b[0m\u001b[0;32mNone\u001b[0m\u001b[0;34m)\u001b[0m\u001b[0;34m\u001b[0m\u001b[0;34m\u001b[0m\u001b[0m\n",
       "\u001b[0;31mDocstring:\u001b[0m\n",
       "Round a number to a given precision in decimal digits.\n",
       "\n",
       "The return value is an integer if ndigits is omitted or None.  Otherwise\n",
       "the return value has the same type as the number.  ndigits may be negative.\n",
       "\u001b[0;31mType:\u001b[0m      builtin_function_or_method"
      ]
     },
     "metadata": {},
     "output_type": "display_data"
    }
   ],
   "source": [
    "round?"
   ]
  },
  {
   "cell_type": "markdown",
   "id": "4b8c2ea9-e793-458c-8fce-4e68a990bf20",
   "metadata": {},
   "source": [
    "The function `abs` returns the absolute value of a real number (and the modulus of a complex number)."
   ]
  },
  {
   "cell_type": "code",
   "execution_count": 53,
   "id": "c975ad3b-57e8-4027-8a29-62ddba206c4a",
   "metadata": {},
   "outputs": [],
   "source": [
    "x = -1"
   ]
  },
  {
   "cell_type": "code",
   "execution_count": 54,
   "id": "0df6a482-c75d-4d0e-865c-a0a5aa4f4707",
   "metadata": {},
   "outputs": [
    {
     "data": {
      "text/plain": [
       "1"
      ]
     },
     "execution_count": 54,
     "metadata": {},
     "output_type": "execute_result"
    }
   ],
   "source": [
    "abs(x)"
   ]
  },
  {
   "cell_type": "code",
   "execution_count": 55,
   "id": "bf872961-dd23-4f0f-a3c6-13366729ab77",
   "metadata": {},
   "outputs": [
    {
     "data": {
      "text/plain": [
       "1.4142135623730951"
      ]
     },
     "execution_count": 55,
     "metadata": {},
     "output_type": "execute_result"
    }
   ],
   "source": [
    "abs(1 - 1j)"
   ]
  },
  {
   "cell_type": "markdown",
   "id": "f53b6ba3-69e1-42e2-bee2-12f8dcfe36ff",
   "metadata": {},
   "source": [
    "## Examples\n",
    "\n",
    "### Arctan\n",
    "\n",
    "Write a function called `arctan_taylor` which takes input `x` and `N` an returns the partial sum of the Taylor series of $\\arctan(x)$:"
   ]
  },
  {
   "cell_type": "markdown",
   "id": "f0c5afcb-60a5-4e2c-92b2-42e198fb5be3",
   "metadata": {},
   "source": [
    "$$\n",
    "\\sum_{k=0}^N (-1)^{k} \\frac{x^{2k + 1}}{2k + 1} \\ , \\ |x| \\leq 1\n",
    "$$"
   ]
  },
  {
   "cell_type": "code",
   "execution_count": 56,
   "id": "ddfa19bf-d5db-459e-a5ce-a88e9a6841ba",
   "metadata": {},
   "outputs": [],
   "source": [
    "def arctan_taylor(x,N):\n",
    "    \"Compute partial sum of Taylor series of arctan(x).\"\n",
    "    terms = [(-1)**k*x**(2*k + 1)/(2*k + 1) for k in range(0,N+1)]\n",
    "    series = sum(terms)\n",
    "    return series"
   ]
  },
  {
   "cell_type": "code",
   "execution_count": 57,
   "id": "1602b95f-fba0-41ca-af10-b3f4c59ba93f",
   "metadata": {},
   "outputs": [
    {
     "data": {
      "text/plain": [
       "0.0"
      ]
     },
     "execution_count": 57,
     "metadata": {},
     "output_type": "execute_result"
    }
   ],
   "source": [
    "arctan_taylor(0,0) # 0.0"
   ]
  },
  {
   "cell_type": "code",
   "execution_count": 58,
   "id": "793dc5d2-8469-4ec2-89cf-c991a512ef96",
   "metadata": {},
   "outputs": [
    {
     "data": {
      "text/plain": [
       "0.7854231608976359"
      ]
     },
     "execution_count": 58,
     "metadata": {},
     "output_type": "execute_result"
    }
   ],
   "source": [
    "arctan_taylor(1,10000) # Approximately pi/4"
   ]
  },
  {
   "cell_type": "code",
   "execution_count": 59,
   "id": "aad7c00c-ea20-4f33-8748-a32427408596",
   "metadata": {},
   "outputs": [
    {
     "data": {
      "text/plain": [
       "0.78539815"
      ]
     },
     "execution_count": 59,
     "metadata": {},
     "output_type": "execute_result"
    }
   ],
   "source": [
    "3.1415926/4"
   ]
  },
  {
   "cell_type": "code",
   "execution_count": 60,
   "id": "1f260871-5245-4722-b10d-e75779f75ffc",
   "metadata": {},
   "outputs": [
    {
     "data": {
      "text/plain": [
       "0.8666666666666667"
      ]
     },
     "execution_count": 60,
     "metadata": {},
     "output_type": "execute_result"
    }
   ],
   "source": [
    "arctan_taylor(1,2) # 1 - 1/3 + 1/5"
   ]
  },
  {
   "cell_type": "code",
   "execution_count": 61,
   "id": "3645443e-d27f-430b-acbb-ce48fe29f1ec",
   "metadata": {},
   "outputs": [
    {
     "data": {
      "text/plain": [
       "0.8666666666666667"
      ]
     },
     "execution_count": 61,
     "metadata": {},
     "output_type": "execute_result"
    }
   ],
   "source": [
    "1 - 1/3 + 1/5"
   ]
  },
  {
   "cell_type": "code",
   "execution_count": 64,
   "id": "eb340018-9f98-44e8-9e45-18816b0388e4",
   "metadata": {},
   "outputs": [
    {
     "data": {
      "text/plain": [
       "0.5235987755982989"
      ]
     },
     "execution_count": 64,
     "metadata": {},
     "output_type": "execute_result"
    }
   ],
   "source": [
    "arctan_taylor(1/3**0.5,10000) # Approximately pi/6 = arctan(1/3**0.5)"
   ]
  },
  {
   "cell_type": "code",
   "execution_count": 65,
   "id": "6a297b16-4cf0-48aa-adf1-cbc7db9998af",
   "metadata": {},
   "outputs": [
    {
     "data": {
      "text/plain": [
       "0.5235987666666667"
      ]
     },
     "execution_count": 65,
     "metadata": {},
     "output_type": "execute_result"
    }
   ],
   "source": [
    "3.1415926/6"
   ]
  },
  {
   "cell_type": "markdown",
   "id": "ace3c19f-e49a-48c2-b45e-f3a16107931f",
   "metadata": {},
   "source": [
    "### Harmonic Mean\n",
    "\n",
    "Write a function called `hmean` which takes `x` (a Python sequence of nonzero numbers) and returns the harmonic mean of the sequence:\n",
    "\n",
    "$$\n",
    "\\frac{N}{\\sum_{k=0}^{N-1} \\frac{1}{x_k}}\n",
    "=\n",
    "\\frac{N}{\\frac{1}{x_0} + \\frac{1}{x_1} + \\cdots + \\frac{1}{x_{N-1}}}\n",
    "$$\n",
    "\n",
    "where $N$ is the length of `x`."
   ]
  },
  {
   "cell_type": "code",
   "execution_count": 66,
   "id": "2d23ed62-828e-494c-bc2e-687688fa9178",
   "metadata": {},
   "outputs": [],
   "source": [
    "def hmean(x):\n",
    "    \"Compute the harmonic mean of sequence x.\"\n",
    "    N = len(x)\n",
    "    #terms = [1/xn for xn in x]\n",
    "    terms = [1/x[n] for n in range(0,N)]\n",
    "    h = N/sum(terms)\n",
    "    return h"
   ]
  },
  {
   "cell_type": "code",
   "execution_count": 67,
   "id": "06a39955-ac96-4321-a1d9-e7bb7b51df53",
   "metadata": {},
   "outputs": [
    {
     "name": "stdout",
     "output_type": "stream",
     "text": [
      "1.0\n"
     ]
    }
   ],
   "source": [
    "x = [1,1,1,1,1,1]\n",
    "result = hmean(x) # 1.0\n",
    "print(result)"
   ]
  },
  {
   "cell_type": "code",
   "execution_count": 68,
   "id": "e67262cd-d8c2-4e06-9e60-4a04562b9c04",
   "metadata": {},
   "outputs": [
    {
     "name": "stdout",
     "output_type": "stream",
     "text": [
      "1.6363636363636365\n"
     ]
    }
   ],
   "source": [
    "x = [1,2,3]\n",
    "result = hmean(x) # 3/(1/1 + 1/2 + 1/3)\n",
    "print(result)"
   ]
  },
  {
   "cell_type": "code",
   "execution_count": 69,
   "id": "7fd464d4-a5f0-4163-be10-c24227c061f5",
   "metadata": {},
   "outputs": [
    {
     "data": {
      "text/plain": [
       "1.6363636363636365"
      ]
     },
     "execution_count": 69,
     "metadata": {},
     "output_type": "execute_result"
    }
   ],
   "source": [
    "3/(1/1 + 1/2 + 1/3)"
   ]
  },
  {
   "cell_type": "markdown",
   "id": "357157c7-60db-4e32-95f4-e274f175d307",
   "metadata": {},
   "source": [
    "### Polynomials\n",
    "\n",
    "Write a function called `asum` which takes input `a` (a Python list of numbers) and `x` (any number), and returns the sum\n",
    "\n",
    "$$\n",
    "\\sum_{k=0}^{N-1} a_k x^k\n",
    "$$\n",
    "\n",
    "where $N$ is the length of `a`. Note that if $p(x) = a_0 + a_1x + \\cdots + a_{d}x^{d}$ then `asum(a,x)` is $p(x)$ where `a = [a0,a1,...,ad]`."
   ]
  },
  {
   "cell_type": "code",
   "execution_count": 70,
   "id": "2977025d-032e-41b9-a5d1-e029995af4ee",
   "metadata": {},
   "outputs": [],
   "source": [
    "def asum(a,x):\n",
    "    N = len(a)\n",
    "    terms = [a[k]*x**k for k in range(N)]\n",
    "    series = sum(terms)\n",
    "    return series"
   ]
  },
  {
   "cell_type": "code",
   "execution_count": 71,
   "id": "bf052303-e042-41fd-b3d7-bc74e37c24d9",
   "metadata": {},
   "outputs": [
    {
     "data": {
      "text/plain": [
       "3"
      ]
     },
     "execution_count": 71,
     "metadata": {},
     "output_type": "execute_result"
    }
   ],
   "source": [
    "asum([1,-1,1],2) # 1*2**0 + (-1)*2**1 + 1*2**2 = 3"
   ]
  }
 ],
 "metadata": {
  "kernelspec": {
   "display_name": "Python 3 (ipykernel)",
   "language": "python",
   "name": "python3"
  },
  "language_info": {
   "codemirror_mode": {
    "name": "ipython",
    "version": 3
   },
   "file_extension": ".py",
   "mimetype": "text/x-python",
   "name": "python",
   "nbconvert_exporter": "python",
   "pygments_lexer": "ipython3",
   "version": "3.12.8"
  }
 },
 "nbformat": 4,
 "nbformat_minor": 5
}
