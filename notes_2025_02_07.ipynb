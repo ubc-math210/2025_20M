{
 "cells": [
  {
   "cell_type": "markdown",
   "id": "52255967-5fff-454f-904e-8d2df21c0473",
   "metadata": {},
   "source": [
    "# MATH 210 Introduction to Mathematical Computing\n",
    "\n",
    "**February 7, 2025**\n",
    "\n",
    "## Examples: Fixed Points and Roots\n",
    "\n",
    "**Example 1.** Let $f(x) = x^5 - x - 1$.\n",
    "\n",
    "* Find all the real roots of $f(x)$.\n",
    "* Use fixed point iteration to approximate the roots.\n",
    "\n",
    "To use fixed point iteration, we need to rewrite $f(x) = 0$ as $x = g(x)$ for some function $g(x)$.\n",
    "\n",
    "Try $g(x) = x^5 - 1$ and so $f(x) = 0$ is equivalent to $x = g(x)$."
   ]
  },
  {
   "cell_type": "code",
   "execution_count": 8,
   "id": "8e02f4b5-5b4f-45d5-bf7d-646bf05cc17b",
   "metadata": {},
   "outputs": [
    {
     "name": "stdout",
     "output_type": "stream",
     "text": [
      "6.59375\n",
      "12463.141906827688\n",
      "3.007029577502738e+20\n",
      "2.4586035222738373e+102\n"
     ]
    },
    {
     "ename": "OverflowError",
     "evalue": "(34, 'Numerical result out of range')",
     "output_type": "error",
     "traceback": [
      "\u001b[0;31m---------------------------------------------------------------------------\u001b[0m",
      "\u001b[0;31mOverflowError\u001b[0m                             Traceback (most recent call last)",
      "Cell \u001b[0;32mIn[8], line 4\u001b[0m\n\u001b[1;32m      2\u001b[0m g \u001b[38;5;241m=\u001b[39m \u001b[38;5;28;01mlambda\u001b[39;00m x: x\u001b[38;5;241m*\u001b[39m\u001b[38;5;241m*\u001b[39m\u001b[38;5;241m5\u001b[39m \u001b[38;5;241m-\u001b[39m \u001b[38;5;241m1\u001b[39m\n\u001b[1;32m      3\u001b[0m \u001b[38;5;28;01mfor\u001b[39;00m n \u001b[38;5;129;01min\u001b[39;00m \u001b[38;5;28mrange\u001b[39m(\u001b[38;5;241m10\u001b[39m):\n\u001b[0;32m----> 4\u001b[0m     xn \u001b[38;5;241m=\u001b[39m \u001b[43mg\u001b[49m\u001b[43m(\u001b[49m\u001b[43mxn\u001b[49m\u001b[43m)\u001b[49m\n\u001b[1;32m      5\u001b[0m     \u001b[38;5;28mprint\u001b[39m(xn)\n",
      "Cell \u001b[0;32mIn[8], line 2\u001b[0m, in \u001b[0;36m<lambda>\u001b[0;34m(x)\u001b[0m\n\u001b[1;32m      1\u001b[0m xn \u001b[38;5;241m=\u001b[39m \u001b[38;5;241m1.5\u001b[39m\n\u001b[0;32m----> 2\u001b[0m g \u001b[38;5;241m=\u001b[39m \u001b[38;5;28;01mlambda\u001b[39;00m x: \u001b[43mx\u001b[49m\u001b[38;5;241;43m*\u001b[39;49m\u001b[38;5;241;43m*\u001b[39;49m\u001b[38;5;241;43m5\u001b[39;49m \u001b[38;5;241m-\u001b[39m \u001b[38;5;241m1\u001b[39m\n\u001b[1;32m      3\u001b[0m \u001b[38;5;28;01mfor\u001b[39;00m n \u001b[38;5;129;01min\u001b[39;00m \u001b[38;5;28mrange\u001b[39m(\u001b[38;5;241m10\u001b[39m):\n\u001b[1;32m      4\u001b[0m     xn \u001b[38;5;241m=\u001b[39m g(xn)\n",
      "\u001b[0;31mOverflowError\u001b[0m: (34, 'Numerical result out of range')"
     ]
    }
   ],
   "source": [
    "xn = 1.5\n",
    "g = lambda x: x**5 - 1\n",
    "for n in range(10):\n",
    "    xn = g(xn)\n",
    "    print(xn)"
   ]
  },
  {
   "cell_type": "markdown",
   "id": "33c7b31f-662e-479f-856a-9674456f75ae",
   "metadata": {},
   "source": [
    "It blows up!  We need $|g'(x)| < 1$ for $x \\in [1,2]$.\n",
    "\n",
    "Try $g(x) = \\frac{1}{x^4 - 1}$."
   ]
  },
  {
   "cell_type": "code",
   "execution_count": 9,
   "id": "a187b31f-9396-4feb-a5a9-e02bc2f94af6",
   "metadata": {},
   "outputs": [
    {
     "name": "stdout",
     "output_type": "stream",
     "text": [
      "0.24615384615384617\n",
      "-1.0036848845681907\n",
      "67.47087978279734\n",
      "4.825413427280934e-08\n",
      "-1.0\n"
     ]
    },
    {
     "ename": "ZeroDivisionError",
     "evalue": "float division by zero",
     "output_type": "error",
     "traceback": [
      "\u001b[0;31m---------------------------------------------------------------------------\u001b[0m",
      "\u001b[0;31mZeroDivisionError\u001b[0m                         Traceback (most recent call last)",
      "Cell \u001b[0;32mIn[9], line 4\u001b[0m\n\u001b[1;32m      2\u001b[0m g \u001b[38;5;241m=\u001b[39m \u001b[38;5;28;01mlambda\u001b[39;00m x: \u001b[38;5;241m1\u001b[39m\u001b[38;5;241m/\u001b[39m(x\u001b[38;5;241m*\u001b[39m\u001b[38;5;241m*\u001b[39m\u001b[38;5;241m4\u001b[39m \u001b[38;5;241m-\u001b[39m \u001b[38;5;241m1\u001b[39m)\n\u001b[1;32m      3\u001b[0m \u001b[38;5;28;01mfor\u001b[39;00m n \u001b[38;5;129;01min\u001b[39;00m \u001b[38;5;28mrange\u001b[39m(\u001b[38;5;241m10\u001b[39m):\n\u001b[0;32m----> 4\u001b[0m     xn \u001b[38;5;241m=\u001b[39m \u001b[43mg\u001b[49m\u001b[43m(\u001b[49m\u001b[43mxn\u001b[49m\u001b[43m)\u001b[49m\n\u001b[1;32m      5\u001b[0m     \u001b[38;5;28mprint\u001b[39m(xn)\n",
      "Cell \u001b[0;32mIn[9], line 2\u001b[0m, in \u001b[0;36m<lambda>\u001b[0;34m(x)\u001b[0m\n\u001b[1;32m      1\u001b[0m xn \u001b[38;5;241m=\u001b[39m \u001b[38;5;241m1.5\u001b[39m\n\u001b[0;32m----> 2\u001b[0m g \u001b[38;5;241m=\u001b[39m \u001b[38;5;28;01mlambda\u001b[39;00m x: \u001b[38;5;241;43m1\u001b[39;49m\u001b[38;5;241;43m/\u001b[39;49m\u001b[43m(\u001b[49m\u001b[43mx\u001b[49m\u001b[38;5;241;43m*\u001b[39;49m\u001b[38;5;241;43m*\u001b[39;49m\u001b[38;5;241;43m4\u001b[39;49m\u001b[43m \u001b[49m\u001b[38;5;241;43m-\u001b[39;49m\u001b[43m \u001b[49m\u001b[38;5;241;43m1\u001b[39;49m\u001b[43m)\u001b[49m\n\u001b[1;32m      3\u001b[0m \u001b[38;5;28;01mfor\u001b[39;00m n \u001b[38;5;129;01min\u001b[39;00m \u001b[38;5;28mrange\u001b[39m(\u001b[38;5;241m10\u001b[39m):\n\u001b[1;32m      4\u001b[0m     xn \u001b[38;5;241m=\u001b[39m g(xn)\n",
      "\u001b[0;31mZeroDivisionError\u001b[0m: float division by zero"
     ]
    }
   ],
   "source": [
    "xn = 1.5\n",
    "g = lambda x: 1/(x**4 - 1)\n",
    "for n in range(10):\n",
    "    xn = g(xn)\n",
    "    print(xn)"
   ]
  },
  {
   "cell_type": "markdown",
   "id": "a987163a-df9c-4287-ab5c-8fb4a5fff338",
   "metadata": {},
   "source": [
    "It blows up! Try again.\n",
    "\n",
    "Try $g(x) = (1 + x)^{1/5}$."
   ]
  },
  {
   "cell_type": "code",
   "execution_count": 11,
   "id": "5a759ef6-72c3-4728-9059-5ec5a43a4f53",
   "metadata": {},
   "outputs": [
    {
     "name": "stdout",
     "output_type": "stream",
     "text": [
      "1.2011244339814313\n",
      "1.1709245696708135\n",
      "1.1676937260315057\n",
      "1.1673459586577775\n",
      "1.1673085003316492\n",
      "1.1673044653759368\n",
      "1.1673040307331226\n",
      "1.1673039839136419\n",
      "1.167303978870273\n",
      "1.1673039783270043\n"
     ]
    }
   ],
   "source": [
    "xn = 1.5\n",
    "g = lambda x: (1 + x)**(1/5)\n",
    "for n in range(10):\n",
    "    xn = g(xn)\n",
    "    print(xn)"
   ]
  },
  {
   "cell_type": "markdown",
   "id": "70d4c790-2065-4256-acd3-3f0f90efc249",
   "metadata": {},
   "source": [
    "Success!"
   ]
  },
  {
   "cell_type": "markdown",
   "id": "333c0eac-fc43-419d-bb6a-3d23fcc18784",
   "metadata": {},
   "source": [
    "**Example 2.** Use bisection method to approximate fixed point of $f(x) = \\sqrt{1 + x} + \\sqrt{x}$."
   ]
  },
  {
   "cell_type": "code",
   "execution_count": 22,
   "id": "4092caf5-3705-457b-8033-5fd8fb6bb226",
   "metadata": {},
   "outputs": [],
   "source": [
    "def bisection(f,a,b,N):\n",
    "    a_n = a\n",
    "    b_n = b\n",
    "    for n in range(1,N+1):\n",
    "        m_n = (a_n + b_n)/2\n",
    "        f_m_n = f(m_n)\n",
    "        if f(a_n)*f_m_n < 0:\n",
    "            b_n = m_n\n",
    "        elif f(b_n)*f_m_n < 0:\n",
    "            a_n = m_n\n",
    "        elif f_m_n == 0:\n",
    "            print(\"Found exact solution.\")\n",
    "            return m_n\n",
    "        else:\n",
    "            print(\"Bisection method fails.\")\n",
    "            return None\n",
    "    return (a_n + b_n)/2"
   ]
  },
  {
   "cell_type": "code",
   "execution_count": 25,
   "id": "b928cfbf-819b-4f50-8a35-393adc87f88b",
   "metadata": {},
   "outputs": [
    {
     "name": "stdout",
     "output_type": "stream",
     "text": [
      "4.43914794921875 +- 6.103515625e-05\n"
     ]
    }
   ],
   "source": [
    "g = lambda x: (1 + x)**0.5 + x**0.5 - x\n",
    "a = 4\n",
    "b = 5\n",
    "N = 13\n",
    "r = bisection(g,a,b,N)\n",
    "print(r,\"+-\",(b - a)/2**(N+1))"
   ]
  }
 ],
 "metadata": {
  "kernelspec": {
   "display_name": "Python 3 (ipykernel)",
   "language": "python",
   "name": "python3"
  },
  "language_info": {
   "codemirror_mode": {
    "name": "ipython",
    "version": 3
   },
   "file_extension": ".py",
   "mimetype": "text/x-python",
   "name": "python",
   "nbconvert_exporter": "python",
   "pygments_lexer": "ipython3",
   "version": "3.12.8"
  }
 },
 "nbformat": 4,
 "nbformat_minor": 5
}
