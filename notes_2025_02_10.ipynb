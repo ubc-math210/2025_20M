{
 "cells": [
  {
   "cell_type": "markdown",
   "id": "cf630786-c482-4796-aac9-a400faea5574",
   "metadata": {},
   "source": [
    "# MATH 210 Introduction to Mathematical Computing\n",
    "\n",
    "**February 10, 2025**\n",
    "\n",
    "* Python Modules and Packages\n",
    "* NumPy and Matplotlib\n",
    "* Vectorization\n",
    "* Plotting"
   ]
  },
  {
   "cell_type": "markdown",
   "id": "d8b4dc3a-ca11-4b3d-b76d-f8b375fdd677",
   "metadata": {},
   "source": [
    "## Python Modules and Packages"
   ]
  },
  {
   "cell_type": "markdown",
   "id": "f55a5303-2cc7-41b8-9829-b89f908b36b5",
   "metadata": {},
   "source": [
    "A **module** is a text file (with extension `.py`) containing Python code. We can save code to a file and import it! Let's create a module called `rootfinding` which contains our functions for bisection, secant and Newton's method."
   ]
  },
  {
   "cell_type": "code",
   "execution_count": 1,
   "id": "2f00ec39-1d4b-4050-8c84-522b7a769eb1",
   "metadata": {},
   "outputs": [],
   "source": [
    "import rootfinding"
   ]
  },
  {
   "cell_type": "markdown",
   "id": "5966b01d-f8cb-4dba-89d9-e05f2696100b",
   "metadata": {},
   "source": [
    "Access functions inside the module using the dot syntax:"
   ]
  },
  {
   "cell_type": "code",
   "execution_count": 3,
   "id": "8713b6a3-2b79-4b86-b5ce-a6504fc2d7d7",
   "metadata": {},
   "outputs": [
    {
     "name": "stdout",
     "output_type": "stream",
     "text": [
      "1.56005859375\n"
     ]
    }
   ],
   "source": [
    "f = lambda x: x**x - 2\n",
    "a = 1\n",
    "b = 2\n",
    "N = 10\n",
    "r = rootfinding.bisection(f,a,b,N)\n",
    "print(r)"
   ]
  },
  {
   "cell_type": "code",
   "execution_count": 5,
   "id": "04ea6b72-447d-4c99-8838-c400981ba3d9",
   "metadata": {},
   "outputs": [
    {
     "name": "stdout",
     "output_type": "stream",
     "text": [
      "Found solution after 5 iterations.\n",
      "1.1673039782677\n"
     ]
    }
   ],
   "source": [
    "f = lambda x: x**5 - x - 1\n",
    "df = lambda x: 5*x**4 - 1\n",
    "x0 = 1.5\n",
    "r = rootfinding.newton(f,df,x0,1e-8,20)\n",
    "print(r)"
   ]
  },
  {
   "cell_type": "markdown",
   "id": "245376a8-2721-4288-8eda-84c3fa06f4b5",
   "metadata": {},
   "source": [
    "We can import a module using an alias (ie. our own name for the module)."
   ]
  },
  {
   "cell_type": "code",
   "execution_count": 6,
   "id": "1fc3aadd-61e3-41c8-a3f1-b6ed33170316",
   "metadata": {},
   "outputs": [],
   "source": [
    "import rootfinding as rf"
   ]
  },
  {
   "cell_type": "code",
   "execution_count": 8,
   "id": "a1e461de-c8e1-4fb1-a860-0d18def75e54",
   "metadata": {},
   "outputs": [
    {
     "name": "stdout",
     "output_type": "stream",
     "text": [
      "1.56005859375\n"
     ]
    }
   ],
   "source": [
    "f = lambda x: x**x - 2\n",
    "a = 1\n",
    "b = 2\n",
    "N = 10\n",
    "r = rf.bisection(f,a,b,N)\n",
    "print(r)"
   ]
  },
  {
   "cell_type": "markdown",
   "id": "bbb6543e-c6cd-44d2-8fee-505dad650699",
   "metadata": {},
   "source": [
    "A **package** is a collection of modules. We use the `import` keyword the same as for modules and access functions and constants inside the package with the dot syntax."
   ]
  },
  {
   "cell_type": "markdown",
   "id": "d58512a5-ace2-400f-af23-497479e69794",
   "metadata": {},
   "source": [
    "## NumPy and Matplotlib\n",
    "\n",
    "NumPy is the numerical computing package in Python. It has matrix and vector objects, mathematical functions and it handles rounding error better than pure Python."
   ]
  },
  {
   "cell_type": "code",
   "execution_count": 9,
   "id": "bce04861-b4e3-47fe-a175-f5eec93309d2",
   "metadata": {},
   "outputs": [],
   "source": [
    "import numpy as np"
   ]
  },
  {
   "cell_type": "markdown",
   "id": "2acf96e0-98d1-4c9e-a208-f9fc93475ff9",
   "metadata": {},
   "source": [
    "There are the usual mathematical constants and functions:"
   ]
  },
  {
   "cell_type": "code",
   "execution_count": 10,
   "id": "f3631e70-de79-40b1-aadb-dfe1154f8054",
   "metadata": {},
   "outputs": [
    {
     "data": {
      "text/plain": [
       "3.141592653589793"
      ]
     },
     "execution_count": 10,
     "metadata": {},
     "output_type": "execute_result"
    }
   ],
   "source": [
    "np.pi"
   ]
  },
  {
   "cell_type": "code",
   "execution_count": 12,
   "id": "93eed34d-ad21-4216-a680-80ec388e8a77",
   "metadata": {},
   "outputs": [
    {
     "data": {
      "text/plain": [
       "1.0"
      ]
     },
     "execution_count": 12,
     "metadata": {},
     "output_type": "execute_result"
    }
   ],
   "source": [
    "np.sin(np.pi/2)"
   ]
  },
  {
   "cell_type": "code",
   "execution_count": 13,
   "id": "7c1f9a9c-39fa-4380-9029-3b688bfa347a",
   "metadata": {},
   "outputs": [
    {
     "data": {
      "text/plain": [
       "6.123233995736766e-17"
      ]
     },
     "execution_count": 13,
     "metadata": {},
     "output_type": "execute_result"
    }
   ],
   "source": [
    "np.cos(np.pi/2)"
   ]
  },
  {
   "cell_type": "code",
   "execution_count": 14,
   "id": "bf9d0d9f-0c17-4a66-b2df-0d309b7425ea",
   "metadata": {},
   "outputs": [
    {
     "data": {
      "text/plain": [
       "2.718281828459045"
      ]
     },
     "execution_count": 14,
     "metadata": {},
     "output_type": "execute_result"
    }
   ],
   "source": [
    "np.exp(1)"
   ]
  },
  {
   "cell_type": "code",
   "execution_count": 15,
   "id": "2cbaa673-7bca-4c29-84df-ba68bd9f7d80",
   "metadata": {},
   "outputs": [
    {
     "data": {
      "text/plain": [
       "0.6931471805599453"
      ]
     },
     "execution_count": 15,
     "metadata": {},
     "output_type": "execute_result"
    }
   ],
   "source": [
    "np.log(2)"
   ]
  },
  {
   "cell_type": "markdown",
   "id": "2bf0f66d-5976-4095-8f3d-7da64411699c",
   "metadata": {},
   "source": [
    "The essential datatype in NumPy is the `ndarray`. We use it to define vectors and matrices. Use the function `np.array` to construct a NumPy array from a list of numbers."
   ]
  },
  {
   "cell_type": "code",
   "execution_count": 16,
   "id": "f026ca48-aebe-4c52-9f9f-815a6eac3c7b",
   "metadata": {},
   "outputs": [],
   "source": [
    "v = np.array([0.0,0.2,0.4,0.6,0.8,1.0])"
   ]
  },
  {
   "cell_type": "code",
   "execution_count": 17,
   "id": "6de9ce1e-1e17-475f-b2f2-d0520763f67b",
   "metadata": {},
   "outputs": [
    {
     "data": {
      "text/plain": [
       "numpy.ndarray"
      ]
     },
     "execution_count": 17,
     "metadata": {},
     "output_type": "execute_result"
    }
   ],
   "source": [
    "type(v)"
   ]
  },
  {
   "cell_type": "markdown",
   "id": "e2440684-f889-40fa-a179-94dbc7c496da",
   "metadata": {},
   "source": [
    "Add vectors and do scalar multiplication:"
   ]
  },
  {
   "cell_type": "code",
   "execution_count": 18,
   "id": "3f5a64f8-c113-4250-83ae-27f2e36697f6",
   "metadata": {},
   "outputs": [
    {
     "data": {
      "text/plain": [
       "array([0. , 0.4, 0.8, 1.2, 1.6, 2. ])"
      ]
     },
     "execution_count": 18,
     "metadata": {},
     "output_type": "execute_result"
    }
   ],
   "source": [
    "2*v"
   ]
  },
  {
   "cell_type": "code",
   "execution_count": 19,
   "id": "d0a42502-0784-4d7d-ad37-3dc5b1590379",
   "metadata": {},
   "outputs": [
    {
     "data": {
      "text/plain": [
       "array([0. , 0.6, 1.2, 1.8, 2.4, 3. ])"
      ]
     },
     "execution_count": 19,
     "metadata": {},
     "output_type": "execute_result"
    }
   ],
   "source": [
    "v + v + v"
   ]
  },
  {
   "cell_type": "markdown",
   "id": "ff01ab57-9df2-4811-9367-ce9398d1d729",
   "metadata": {},
   "source": [
    "There are NumPy functions such as `linspace` and `arange` for creating NumPy arrays. The function `np.linspace(a,b,N)` creates the NumPy array of `N` evenly spaced values from `a` to `b` (inclusive)."
   ]
  },
  {
   "cell_type": "code",
   "execution_count": 21,
   "id": "87ad23b1-f42e-442c-8562-d69dbf1440af",
   "metadata": {},
   "outputs": [
    {
     "name": "stdout",
     "output_type": "stream",
     "text": [
      "[0.  0.2 0.4 0.6 0.8 1. ]\n"
     ]
    }
   ],
   "source": [
    "v = np.linspace(0,1,6)\n",
    "print(v)"
   ]
  },
  {
   "cell_type": "code",
   "execution_count": 23,
   "id": "95d20c5e-601c-4a81-aa16-ca59d0c264ef",
   "metadata": {},
   "outputs": [
    {
     "name": "stdout",
     "output_type": "stream",
     "text": [
      "[0.   0.01 0.02 0.03 0.04 0.05 0.06 0.07 0.08 0.09 0.1  0.11 0.12 0.13\n",
      " 0.14 0.15 0.16 0.17 0.18 0.19 0.2  0.21 0.22 0.23 0.24 0.25 0.26 0.27\n",
      " 0.28 0.29 0.3  0.31 0.32 0.33 0.34 0.35 0.36 0.37 0.38 0.39 0.4  0.41\n",
      " 0.42 0.43 0.44 0.45 0.46 0.47 0.48 0.49 0.5  0.51 0.52 0.53 0.54 0.55\n",
      " 0.56 0.57 0.58 0.59 0.6  0.61 0.62 0.63 0.64 0.65 0.66 0.67 0.68 0.69\n",
      " 0.7  0.71 0.72 0.73 0.74 0.75 0.76 0.77 0.78 0.79 0.8  0.81 0.82 0.83\n",
      " 0.84 0.85 0.86 0.87 0.88 0.89 0.9  0.91 0.92 0.93 0.94 0.95 0.96 0.97\n",
      " 0.98 0.99 1.  ]\n"
     ]
    }
   ],
   "source": [
    "w = np.linspace(0,1,101)\n",
    "print(w)"
   ]
  },
  {
   "cell_type": "code",
   "execution_count": 25,
   "id": "36439536-3811-4d4f-93cd-9483800649bd",
   "metadata": {},
   "outputs": [
    {
     "name": "stdout",
     "output_type": "stream",
     "text": [
      "[0.0, 0.01, 0.02, 0.03, 0.04, 0.05, 0.06, 0.07, 0.08, 0.09, 0.1, 0.11, 0.12, 0.13, 0.14, 0.15, 0.16, 0.17, 0.18, 0.19, 0.2, 0.21, 0.22, 0.23, 0.24, 0.25, 0.26, 0.27, 0.28, 0.29, 0.3, 0.31, 0.32, 0.33, 0.34, 0.35000000000000003, 0.36, 0.37, 0.38, 0.39, 0.4, 0.41000000000000003, 0.42, 0.43, 0.44, 0.45, 0.46, 0.47000000000000003, 0.48, 0.49, 0.5, 0.51, 0.52, 0.53, 0.54, 0.55, 0.56, 0.5700000000000001, 0.58, 0.59, 0.6, 0.61, 0.62, 0.63, 0.64, 0.65, 0.66, 0.67, 0.68, 0.6900000000000001, 0.7000000000000001, 0.71, 0.72, 0.73, 0.74, 0.75, 0.76, 0.77, 0.78, 0.79, 0.8, 0.81, 0.8200000000000001, 0.8300000000000001, 0.84, 0.85, 0.86, 0.87, 0.88, 0.89, 0.9, 0.91, 0.92, 0.93, 0.9400000000000001, 0.9500000000000001, 0.96, 0.97, 0.98, 0.99, 1.0]\n"
     ]
    }
   ],
   "source": [
    "u = [0.01*n for n in range(101)]\n",
    "print(u)"
   ]
  },
  {
   "cell_type": "markdown",
   "id": "85b0df61-adab-42d8-8716-47404cf9e06c",
   "metadata": {},
   "source": [
    "Matplotlib is the plotting package. We only really use the `pyplot` subpackage and so our convention is:"
   ]
  },
  {
   "cell_type": "code",
   "execution_count": 26,
   "id": "ad8f34f6-7948-46de-8458-beb736cbe609",
   "metadata": {},
   "outputs": [],
   "source": [
    "import matplotlib.pyplot as plt"
   ]
  },
  {
   "cell_type": "code",
   "execution_count": 43,
   "id": "cce3549a-899f-4b07-b354-fc7e8a9b1d75",
   "metadata": {},
   "outputs": [
    {
     "data": {
      "image/png": "[encoded data removed]",
      "text/plain": [
       "<Figure size 640x480 with 1 Axes>"
      ]
     },
     "metadata": {},
     "output_type": "display_data"
    }
   ],
   "source": [
    "x = np.linspace(0,10,1001)\n",
    "y = np.exp(-x/2)*np.sin(2*np.pi*x)\n",
    "plt.plot(x,y)\n",
    "plt.show()"
   ]
  },
  {
   "cell_type": "markdown",
   "id": "2c7909ce-a046-4e3f-9b80-816593a6d982",
   "metadata": {},
   "source": [
    "Plotting procedure uses vectorization. If $\\mathbf{x}$ is a vector and $f(x)$ is a function then the vectorized operation $f(\\mathbf{x})$ is\n",
    "\n",
    "$$\n",
    "\\mathbf{x} = \\begin{bmatrix} x_0 & x_1 & \\cdots & x_N \\end{bmatrix}\n",
    "$$\n",
    "\n",
    "$$\n",
    "f(\\mathbf{x}) = \\begin{bmatrix} f(x_0) & f(x_1) & \\cdots & f(x_N) \\end{bmatrix}\n",
    "$$"
   ]
  },
  {
   "cell_type": "markdown",
   "id": "59e96e6b-b704-4560-97ac-9669aae76569",
   "metadata": {},
   "source": [
    "In the example above, the $k$th entry of `y` is:\n",
    "\n",
    "$$\n",
    "y_k = e^{-x_k/2}\\sin(2 \\pi x_k)\n",
    "$$\n",
    "\n",
    "where $x_k$ is $k$th entry of `x`."
   ]
  },
  {
   "cell_type": "code",
   "execution_count": 46,
   "id": "e1ad81c3-4d44-4b0f-8bf9-82c9c88f1ba0",
   "metadata": {},
   "outputs": [
    {
     "data": {
      "text/plain": [
       "1.7"
      ]
     },
     "execution_count": 46,
     "metadata": {},
     "output_type": "execute_result"
    }
   ],
   "source": [
    "k = 170\n",
    "x[k]"
   ]
  },
  {
   "cell_type": "code",
   "execution_count": 47,
   "id": "369b5533-71b6-42f7-99e0-3967e6ff60cb",
   "metadata": {},
   "outputs": [
    {
     "data": {
      "text/plain": [
       "-0.4064957561916861"
      ]
     },
     "execution_count": 47,
     "metadata": {},
     "output_type": "execute_result"
    }
   ],
   "source": [
    "y[k]"
   ]
  },
  {
   "cell_type": "code",
   "execution_count": 49,
   "id": "8164ae8f-a7aa-40db-9396-86aef0b95f90",
   "metadata": {},
   "outputs": [
    {
     "data": {
      "text/plain": [
       "-0.4064957561916861"
      ]
     },
     "execution_count": 49,
     "metadata": {},
     "output_type": "execute_result"
    }
   ],
   "source": [
    "np.exp(-1.7/2)*np.sin(2*np.pi*1.7)"
   ]
  }
 ],
 "metadata": {
  "kernelspec": {
   "display_name": "Python 3 (ipykernel)",
   "language": "python",
   "name": "python3"
  },
  "language_info": {
   "codemirror_mode": {
    "name": "ipython",
    "version": 3
   },
   "file_extension": ".py",
   "mimetype": "text/x-python",
   "name": "python",
   "nbconvert_exporter": "python",
   "pygments_lexer": "ipython3",
   "version": "3.12.8"
  }
 },
 "nbformat": 4,
 "nbformat_minor": 5
}
