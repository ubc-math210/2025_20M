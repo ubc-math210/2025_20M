{
 "cells": [
  {
   "cell_type": "markdown",
   "id": "987bb2d2-3bab-4178-a52e-8796065549dd",
   "metadata": {},
   "source": [
    "# MATH 210 Introduction to Mathematical Computing\n",
    "\n",
    "**January 29, 2025**"
   ]
  },
  {
   "cell_type": "markdown",
   "id": "233ea62c-7d93-49d8-977d-6fa45968b679",
   "metadata": {},
   "source": [
    "## Fixed Point Iteration\n",
    "\n",
    "Let $L$ be a fixed point of $f(x)$. If $|f'(x)| < 1$ for all $x \\in [L-c,L+c]$ for some $c>0$ then $x_{n+1} = f(x_n)$ converges to $L$ for any initial value $x_0 \\in [L-c,L+c]$.\n",
    "\n",
    "**Example.** Use fixed point iteration to approximate solution of $x^3 + x - 1 = 0$.\n",
    "\n",
    "Let $f(x) = \\frac{1}{x^2 + 1}$. Fixed point of $f(x)$ corresponds to solution of $x^3 + x - 1 = 0$. Choose $x_0 = 1/2$ and compute:"
   ]
  },
  {
   "cell_type": "code",
   "execution_count": 17,
   "id": "7fd40f61-77b9-4950-960e-b80bf644c21a",
   "metadata": {},
   "outputs": [
    {
     "name": "stdout",
     "output_type": "stream",
     "text": [
      "0.8\n",
      "0.6097560975609756\n",
      "0.7289679098005204\n",
      "0.6529997248077185\n",
      "0.701061372973803\n",
      "0.6704717958414473\n",
      "0.6898776322492279\n",
      "0.6775383809122035\n",
      "0.6853735927163312\n",
      "0.6803938569498902\n",
      "0.6835569951920336\n",
      "0.6815470349865663\n",
      "0.6828239376073143\n",
      "0.6820126190729513\n",
      "0.6825280672042958\n",
      "0.682200572671731\n",
      "0.6824086414691092\n",
      "0.6822764449097676\n",
      "0.6823604347611053\n",
      "0.6823070720818657\n"
     ]
    }
   ],
   "source": [
    "f = lambda x: 1/(x**2 + 1)\n",
    "xn = 1/2\n",
    "for n in range(20):\n",
    "    xn = f(xn)\n",
    "    print(xn)"
   ]
  },
  {
   "cell_type": "markdown",
   "id": "65caa53b-c47e-4205-abd0-d35bad490498",
   "metadata": {},
   "source": [
    "## Newton's Method\n",
    "\n",
    "Let $f(x)$ be a differentiable function. Let $r$ be a root of $f(x)$. Choose an initial value $x_0$ near $r$. Compute the recursive sequence\n",
    "\n",
    "$$\n",
    "x_{n+1} = x_n - \\frac{f(x_n)}{f'(x_n)}\n",
    "$$\n",
    "\n",
    "The sequence should converge to $r$."
   ]
  },
  {
   "cell_type": "markdown",
   "id": "12dd30e9-4fcf-46b6-a6e6-176c144c0b3e",
   "metadata": {},
   "source": [
    "**Example.** Approximate the unique solution of $x^3 + x - 1 = 0$."
   ]
  },
  {
   "cell_type": "code",
   "execution_count": 15,
   "id": "40d82dce-d376-474e-8c10-cb19e2b53c06",
   "metadata": {},
   "outputs": [
    {
     "name": "stdout",
     "output_type": "stream",
     "text": [
      "n =  0  xn = 0.7142857142857143\n",
      "n =  1  xn = 0.6831797235023042\n",
      "n =  2  xn = 0.6823284233045783\n",
      "n =  3  xn = 0.6823278038283471\n",
      "n =  4  xn = 0.6823278038280194\n",
      "n =  5  xn = 0.6823278038280193\n",
      "n =  6  xn = 0.6823278038280193\n",
      "n =  7  xn = 0.6823278038280193\n"
     ]
    }
   ],
   "source": [
    "f = lambda x: x**3 + x - 1\n",
    "df = lambda x: 3*x**2 + 1\n",
    "\n",
    "xn = 1/2\n",
    "for n in range(8):\n",
    "    xn = xn - f(xn)/df(xn)\n",
    "    print(\"n = \",n,\" xn =\",xn)"
   ]
  }
 ],
 "metadata": {
  "kernelspec": {
   "display_name": "Python 3 (ipykernel)",
   "language": "python",
   "name": "python3"
  },
  "language_info": {
   "codemirror_mode": {
    "name": "ipython",
    "version": 3
   },
   "file_extension": ".py",
   "mimetype": "text/x-python",
   "name": "python",
   "nbconvert_exporter": "python",
   "pygments_lexer": "ipython3",
   "version": "3.12.8"
  }
 },
 "nbformat": 4,
 "nbformat_minor": 5
}
