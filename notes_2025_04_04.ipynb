{
 "cells": [
  {
   "cell_type": "markdown",
   "id": "a8469c0e-42cb-446b-8a7b-f52820f11f89",
   "metadata": {},
   "source": [
    "# MATH 210 Introduction to Mathematical Computing\n",
    "\n",
    "**April 4, 2025**"
   ]
  },
  {
   "cell_type": "code",
   "execution_count": 9,
   "id": "66aa4825-3652-4a87-84ff-3f59b01fdc7c",
   "metadata": {},
   "outputs": [],
   "source": [
    "import numpy as np\n",
    "import scipy.linalg as la"
   ]
  },
  {
   "cell_type": "markdown",
   "id": "1fce188b-209a-4e75-ab71-8bc148a6dd07",
   "metadata": {},
   "source": [
    "## Eigenvalues and Eigenvectors"
   ]
  },
  {
   "cell_type": "code",
   "execution_count": 10,
   "id": "24aa36e0-05cf-484c-8fa9-4824e5eb635c",
   "metadata": {},
   "outputs": [
    {
     "data": {
      "text/plain": [
       "array([[1., 2.],\n",
       "       [2., 1.]])"
      ]
     },
     "execution_count": 10,
     "metadata": {},
     "output_type": "execute_result"
    }
   ],
   "source": [
    "A = np.array([[1.,2.],[2.,1.]])\n",
    "A"
   ]
  },
  {
   "cell_type": "markdown",
   "id": "91ae91ba-261f-4f40-934a-aad4565b0ee5",
   "metadata": {},
   "source": [
    "The function `scipy.linalg.eig` returns a tuple. Unpack into variables `evals` and `evecs`."
   ]
  },
  {
   "cell_type": "code",
   "execution_count": 14,
   "id": "db6b1478-fd5c-4441-b236-ffa1b5cf16d2",
   "metadata": {},
   "outputs": [],
   "source": [
    "evals,evecs = la.eig(A)"
   ]
  },
  {
   "cell_type": "markdown",
   "id": "f5d6bed4-3096-448f-9607-d36325318625",
   "metadata": {},
   "source": [
    "`evals` is a 1D NumPy array with complex entries. Use the `.real` attribute to get the real part if we know that eigenvalues are real."
   ]
  },
  {
   "cell_type": "code",
   "execution_count": 15,
   "id": "d3cb40b8-6784-4c40-9658-4980bfe23a72",
   "metadata": {},
   "outputs": [
    {
     "data": {
      "text/plain": [
       "array([ 3., -1.])"
      ]
     },
     "execution_count": 15,
     "metadata": {},
     "output_type": "execute_result"
    }
   ],
   "source": [
    "evals.real"
   ]
  },
  {
   "cell_type": "markdown",
   "id": "fd01196b-6ce6-4a79-aa6b-5090dbe8d146",
   "metadata": {},
   "source": [
    "The eigenvectors are the columns of `evecs`. They are normalized to be unit vectors."
   ]
  },
  {
   "cell_type": "code",
   "execution_count": 13,
   "id": "c97e9bdf-99b9-42ec-83f5-8b437ec30287",
   "metadata": {},
   "outputs": [
    {
     "data": {
      "text/plain": [
       "array([[ 0.70710678, -0.70710678],\n",
       "       [ 0.70710678,  0.70710678]])"
      ]
     },
     "execution_count": 13,
     "metadata": {},
     "output_type": "execute_result"
    }
   ],
   "source": [
    "evecs"
   ]
  }
 ],
 "metadata": {
  "kernelspec": {
   "display_name": "Python 3 (ipykernel)",
   "language": "python",
   "name": "python3"
  },
  "language_info": {
   "codemirror_mode": {
    "name": "ipython",
    "version": 3
   },
   "file_extension": ".py",
   "mimetype": "text/x-python",
   "name": "python",
   "nbconvert_exporter": "python",
   "pygments_lexer": "ipython3",
   "version": "3.12.8"
  }
 },
 "nbformat": 4,
 "nbformat_minor": 5
}
