{
 "cells": [
  {
   "cell_type": "markdown",
   "id": "000b6b14-c75c-484a-a082-7d5f5c56cc90",
   "metadata": {},
   "source": [
    "# MATH 210 Introduction to Mathematical Computing\n",
    "\n",
    "**January 17, 2025**\n",
    "\n",
    "* Builtin Functions\n",
    "* Function Construction\n",
    "* Examples"
   ]
  },
  {
   "cell_type": "markdown",
   "id": "a53325fd-6f51-4c4d-bca6-df58a314421f",
   "metadata": {},
   "source": [
    "## Builtin Functions\n",
    "\n",
    "There are several builtin functions in Python. For example:\n",
    "\n",
    "* `print`\n",
    "* `type`\n",
    "* `list`\n",
    "* `range`\n",
    "\n",
    "Some builtin functions for sequences:\n",
    "\n",
    "* `sum`\n",
    "* `min`\n",
    "* `max`\n",
    "* `len`"
   ]
  },
  {
   "cell_type": "markdown",
   "id": "80905513-bb71-4943-a6a7-7badfa936641",
   "metadata": {},
   "source": [
    "Use `sum` and `len` to compute the average value in a sequence:"
   ]
  },
  {
   "cell_type": "code",
   "execution_count": 1,
   "id": "80422ca5-69f9-4693-b8ca-c992d1555c35",
   "metadata": {},
   "outputs": [
    {
     "name": "stdout",
     "output_type": "stream",
     "text": [
      "3.875\n"
     ]
    }
   ],
   "source": [
    "x = [3,1,4,1,5,9,2,6]\n",
    "average = sum(x)/len(x)\n",
    "print(average)"
   ]
  },
  {
   "cell_type": "markdown",
   "id": "832b3b11-df77-422f-95c7-75458650f7ab",
   "metadata": {},
   "source": [
    "## Function Construction\n",
    "\n",
    "Define our own function using the following syntax:\n",
    "\n",
    "```\n",
    "def fun(a,b,c):\n",
    "    \"Documentation string to describe the function\"\n",
    "    Python code\n",
    "    return value\n",
    "```\n",
    "\n",
    "where:\n",
    "\n",
    "* `def` is the keyword that starts the function definition\n",
    "* `fun` is the name of the function\n",
    "* `(a,b,c)` are input parameters separated by commas and contained within parentheses\n",
    "* `:` ends the `def` statement\n",
    "* Body of the function is indented 4 spaces\n",
    "* Documentation string is text that describes the function (it's helpful for users to use our function)\n",
    "* Python code to compute some `value`\n",
    "* `return` is a keyword which designates `value` as the output of the function"
   ]
  },
  {
   "cell_type": "markdown",
   "id": "ec6bbbe5-d4f4-46bd-ae71-2d88b29be676",
   "metadata": {},
   "source": [
    "Define a function called `average` which takes input `x` (a Python list of numbers) and returns the average value in the list."
   ]
  },
  {
   "cell_type": "code",
   "execution_count": 2,
   "id": "e9b5cced-d2ac-4252-aa69-f74a7a5fcb00",
   "metadata": {},
   "outputs": [],
   "source": [
    "def average(x):\n",
    "    \"Compute the average value in the sequence x.\"\n",
    "    avg = sum(x)/len(x)\n",
    "    return avg"
   ]
  },
  {
   "cell_type": "code",
   "execution_count": 3,
   "id": "c2a90ef4-00ea-43ca-9146-28657c1d5b3c",
   "metadata": {},
   "outputs": [
    {
     "data": {
      "text/plain": [
       "3.0"
      ]
     },
     "execution_count": 3,
     "metadata": {},
     "output_type": "execute_result"
    }
   ],
   "source": [
    "average([1,2,3,4,5])"
   ]
  },
  {
   "cell_type": "markdown",
   "id": "30aa3814-6398-4f8b-9b7b-f7d5ffae23b6",
   "metadata": {},
   "source": [
    "## Examples\n",
    "\n",
    "Define a function called `norm` which takes a input `x` (a Python list of numbers) and returns the norm\n",
    "\n",
    "$$\n",
    "\\| \\mathbf{x} \\| = \\sqrt{ \\sum_k x_k^2 }\n",
    "$$\n",
    "\n",
    "Let's use a systematic approach to writing functions:\n",
    "\n",
    "1. Write a stub. (A stub is the minimum amount of code to take in the correct input and return corresponding datatype.)\n",
    "2. Write some tests where we know the exact output for some input.\n",
    "3. Write code and test often."
   ]
  },
  {
   "cell_type": "code",
   "execution_count": 4,
   "id": "dbee5b4e-46eb-4504-99ae-93295d04c781",
   "metadata": {},
   "outputs": [],
   "source": [
    "def norm(x):\n",
    "    \"Compute the norm of vector x.\"\n",
    "    x2 = [x[i]**2 for i in range(0,len(x))]\n",
    "    normx = sum(x2)**0.5\n",
    "    return normx"
   ]
  },
  {
   "cell_type": "code",
   "execution_count": 15,
   "id": "472437d7-15d3-4b3c-af21-dd2fdd62d912",
   "metadata": {},
   "outputs": [],
   "source": [
    "# Another way to do it!\n",
    "\n",
    "# def norm(x):\n",
    "#     \"Compute the norm of vector x.\"\n",
    "#     x2 = [xi**2 for xi in x]\n",
    "#     normx = sum(x2)**0.5\n",
    "#     return normx"
   ]
  },
  {
   "cell_type": "code",
   "execution_count": 6,
   "id": "e4dd1b14-2976-467e-9736-87e8e8db24c9",
   "metadata": {},
   "outputs": [
    {
     "data": {
      "text/plain": [
       "1.4142135623730951"
      ]
     },
     "execution_count": 6,
     "metadata": {},
     "output_type": "execute_result"
    }
   ],
   "source": [
    "norm([1,1]) # sqrt(2) = 1.414"
   ]
  },
  {
   "cell_type": "code",
   "execution_count": 7,
   "id": "7b6e8c3f-b7da-4bc5-9545-9cdab6ecfb67",
   "metadata": {},
   "outputs": [
    {
     "data": {
      "text/plain": [
       "1.4142135623730951"
      ]
     },
     "execution_count": 7,
     "metadata": {},
     "output_type": "execute_result"
    }
   ],
   "source": [
    "2**0.5"
   ]
  },
  {
   "cell_type": "code",
   "execution_count": 8,
   "id": "b2ba142c-d439-4b66-b43f-1a16496db8bd",
   "metadata": {},
   "outputs": [
    {
     "data": {
      "text/plain": [
       "7.0710678118654755"
      ]
     },
     "execution_count": 8,
     "metadata": {},
     "output_type": "execute_result"
    }
   ],
   "source": [
    "norm([3,4,5]) # sqrt(50)"
   ]
  },
  {
   "cell_type": "code",
   "execution_count": 9,
   "id": "6298dbfc-991f-41b3-841f-c07051d38db6",
   "metadata": {},
   "outputs": [
    {
     "data": {
      "text/plain": [
       "7.0710678118654755"
      ]
     },
     "execution_count": 9,
     "metadata": {},
     "output_type": "execute_result"
    }
   ],
   "source": [
    "50**0.5"
   ]
  },
  {
   "cell_type": "markdown",
   "id": "97bf56f9-7545-4124-be3b-14dbd3255bc2",
   "metadata": {},
   "source": [
    "## Lambda Functions\n",
    "\n",
    "Another way to define a function is by the `lambda` keyword. The syntax is:\n",
    "\n",
    "```\n",
    "fun = lambda a,b,c: expression\n",
    "```\n",
    "\n",
    "where:\n",
    "\n",
    "* `fun` is the function name\n",
    "* `lambda` is a keyword which starts the function definition\n",
    "* `a,b,c` are input parameters separated by commas\n",
    "* `:` to start the expression for the output value\n",
    "* `expression` is Python code involving input parameters and defines the return value"
   ]
  },
  {
   "cell_type": "markdown",
   "id": "6e8483ae-8b3f-409e-becf-b3f5ab3ce53e",
   "metadata": {},
   "source": [
    "Write a function (using `lambda` construction) to define $f(x) = 1 - x^2$."
   ]
  },
  {
   "cell_type": "code",
   "execution_count": 11,
   "id": "b98f329e-f02c-425d-beb0-78f0b82472f2",
   "metadata": {},
   "outputs": [],
   "source": [
    "f = lambda x: 1 - x**2"
   ]
  },
  {
   "cell_type": "code",
   "execution_count": 12,
   "id": "e68da4b6-63d9-4562-96a7-245425e1edb5",
   "metadata": {},
   "outputs": [
    {
     "data": {
      "text/plain": [
       "0"
      ]
     },
     "execution_count": 12,
     "metadata": {},
     "output_type": "execute_result"
    }
   ],
   "source": [
    "f(1)"
   ]
  },
  {
   "cell_type": "code",
   "execution_count": 13,
   "id": "091180df-27d0-4b87-9cde-9a2e844fe099",
   "metadata": {},
   "outputs": [
    {
     "data": {
      "text/plain": [
       "-3"
      ]
     },
     "execution_count": 13,
     "metadata": {},
     "output_type": "execute_result"
    }
   ],
   "source": [
    "f(2)"
   ]
  },
  {
   "cell_type": "markdown",
   "id": "cba5b78a-425e-43b6-9c5f-bf83b4bf1049",
   "metadata": {},
   "source": [
    "The `lambda` construction is equivalent to:"
   ]
  },
  {
   "cell_type": "code",
   "execution_count": 14,
   "id": "9a282b34-8dd9-45c0-9d3f-23e7cfee2f57",
   "metadata": {},
   "outputs": [],
   "source": [
    "def f(x):\n",
    "    return 1 - x**2"
   ]
  }
 ],
 "metadata": {
  "kernelspec": {
   "display_name": "Python 3 (ipykernel)",
   "language": "python",
   "name": "python3"
  },
  "language_info": {
   "codemirror_mode": {
    "name": "ipython",
    "version": 3
   },
   "file_extension": ".py",
   "mimetype": "text/x-python",
   "name": "python",
   "nbconvert_exporter": "python",
   "pygments_lexer": "ipython3",
   "version": "3.12.8"
  }
 },
 "nbformat": 4,
 "nbformat_minor": 5
}
