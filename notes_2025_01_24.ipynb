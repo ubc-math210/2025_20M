{
 "cells": [
  {
   "cell_type": "markdown",
   "id": "7e6b750d-3c15-4338-abfd-394002883fad",
   "metadata": {},
   "source": [
    "# MATH 210 Introduction to Mathematical Computing\n",
    "\n",
    "**January 24, 2025**\n",
    "\n",
    "* `for` loops\n",
    "* Factorial and Taylor series for exponential\n",
    "* Recursive Sequences"
   ]
  },
  {
   "cell_type": "markdown",
   "id": "af33a4cd-be22-4dd3-a5cb-7986f7eed60b",
   "metadata": {},
   "source": [
    "## `for` loops\n",
    "\n",
    "A `for` loop allows us to compute a block of code multiple times with different input. The syntax is:\n",
    "\n",
    "```\n",
    "for item in sequence:\n",
    "    Python block of code \n",
    "```\n",
    "\n",
    "where:\n",
    "\n",
    "* `for` keyword begins the loop\n",
    "* `item` is a variable name\n",
    "* `sequence` is an sequence\n",
    "* `in` is a keyword\n",
    "* execute the block of code for each value in `sequence`\n",
    "* each time through the loop, `item` takes the next value in `sequence`"
   ]
  },
  {
   "cell_type": "code",
   "execution_count": 1,
   "id": "0320847e-35e1-45f5-988e-626e542dff91",
   "metadata": {},
   "outputs": [
    {
     "name": "stdout",
     "output_type": "stream",
     "text": [
      "0\n",
      "1\n",
      "4\n",
      "9\n",
      "16\n",
      "25\n",
      "36\n",
      "49\n",
      "64\n",
      "81\n"
     ]
    }
   ],
   "source": [
    "for i in range(10):\n",
    "    print(i**2)"
   ]
  },
  {
   "cell_type": "markdown",
   "id": "bc859447-afb7-4f1c-a831-fd599f34b8df",
   "metadata": {},
   "source": [
    "Construct the sequence of squares from 1 to 100 using a for loop:"
   ]
  },
  {
   "cell_type": "code",
   "execution_count": 2,
   "id": "ef6e9560-a60e-4c4d-a78b-ebda08bff495",
   "metadata": {},
   "outputs": [],
   "source": [
    "squares = []\n",
    "for n in range(1,11):\n",
    "    squares.append(n**2)"
   ]
  },
  {
   "cell_type": "code",
   "execution_count": 3,
   "id": "b735d07a-bd8e-4cde-898e-b720fbe8c723",
   "metadata": {},
   "outputs": [
    {
     "data": {
      "text/plain": [
       "[1, 4, 9, 16, 25, 36, 49, 64, 81, 100]"
      ]
     },
     "execution_count": 3,
     "metadata": {},
     "output_type": "execute_result"
    }
   ],
   "source": [
    "squares"
   ]
  },
  {
   "cell_type": "code",
   "execution_count": 8,
   "id": "5be45f1c-9e59-4005-8dfe-774e46af521a",
   "metadata": {},
   "outputs": [],
   "source": [
    "squares = [0 for n in range(10)]\n",
    "for n in range(10):\n",
    "    squares[n] = (n + 1)**2"
   ]
  },
  {
   "cell_type": "code",
   "execution_count": 9,
   "id": "562de436-2caa-4693-a49b-e4b334310ac0",
   "metadata": {},
   "outputs": [
    {
     "data": {
      "text/plain": [
       "[1, 4, 9, 16, 25, 36, 49, 64, 81, 100]"
      ]
     },
     "execution_count": 9,
     "metadata": {},
     "output_type": "execute_result"
    }
   ],
   "source": [
    "squares"
   ]
  },
  {
   "cell_type": "markdown",
   "id": "2afdbca6-b29f-462f-9457-7c3ad6f5411a",
   "metadata": {},
   "source": [
    "Both these `for` loops are equivalent to the list comprehension:"
   ]
  },
  {
   "cell_type": "code",
   "execution_count": 7,
   "id": "fab5afc9-f4a1-411b-875b-ccb28d37b9fd",
   "metadata": {},
   "outputs": [
    {
     "name": "stdout",
     "output_type": "stream",
     "text": [
      "[1, 4, 9, 16, 25, 36, 49, 64, 81, 100]\n"
     ]
    }
   ],
   "source": [
    "squares = [n**2 for n in range(1,11)]\n",
    "print(squares)"
   ]
  },
  {
   "cell_type": "markdown",
   "id": "2881891f-7981-4d4c-97e0-0d3f0c844644",
   "metadata": {},
   "source": [
    "## Factorial and Exponential Taylor Series\n",
    "\n",
    "The factorial function is $n! = n(n-1) \\cdots (2)(1)$. Write a function called `factorial` which takes integer `n` (larger than or equal to 0) and returns $n!$.\n",
    "\n",
    "The sequence of factorials is $1,1,2,6,24,120,...$. we can write this as a recursive sequence:\n",
    "\n",
    "$$\n",
    "x_0 = 1 \\ , \\ \\ x_{k} = k x_{k-1}\n",
    "$$"
   ]
  },
  {
   "cell_type": "code",
   "execution_count": 27,
   "id": "86f6dc04-f3df-4eaa-94a4-01fd805d6632",
   "metadata": {},
   "outputs": [],
   "source": [
    "def factorial(n):\n",
    "    xk = 1\n",
    "    for k in range(1,n+1):\n",
    "        xk = k*xk\n",
    "    return xk"
   ]
  },
  {
   "cell_type": "code",
   "execution_count": 37,
   "id": "bf3bd78d-8f93-40a6-9c6c-39a51f716f28",
   "metadata": {},
   "outputs": [
    {
     "data": {
      "text/plain": [
       "1"
      ]
     },
     "execution_count": 37,
     "metadata": {},
     "output_type": "execute_result"
    }
   ],
   "source": [
    "factorial(0) # 1"
   ]
  },
  {
   "cell_type": "code",
   "execution_count": 38,
   "id": "13de78c3-c735-4d3e-8851-96e8c5ffbf97",
   "metadata": {},
   "outputs": [
    {
     "data": {
      "text/plain": [
       "1"
      ]
     },
     "execution_count": 38,
     "metadata": {},
     "output_type": "execute_result"
    }
   ],
   "source": [
    "factorial(1) # 1"
   ]
  },
  {
   "cell_type": "code",
   "execution_count": 29,
   "id": "cf1f14d4-199a-431f-9b8b-561ffa1b7268",
   "metadata": {},
   "outputs": [
    {
     "data": {
      "text/plain": [
       "120"
      ]
     },
     "execution_count": 29,
     "metadata": {},
     "output_type": "execute_result"
    }
   ],
   "source": [
    "factorial(5) # 120"
   ]
  },
  {
   "cell_type": "code",
   "execution_count": 30,
   "id": "800b1dcd-324c-4a6f-83cd-b070f11bfb60",
   "metadata": {},
   "outputs": [
    {
     "data": {
      "text/plain": [
       "3628800"
      ]
     },
     "execution_count": 30,
     "metadata": {},
     "output_type": "execute_result"
    }
   ],
   "source": [
    "factorial(10) # 3628800"
   ]
  },
  {
   "cell_type": "code",
   "execution_count": 19,
   "id": "67a5a6f5-52f3-42ea-ae14-89942d339103",
   "metadata": {},
   "outputs": [
    {
     "data": {
      "text/plain": [
       "3628800"
      ]
     },
     "execution_count": 19,
     "metadata": {},
     "output_type": "execute_result"
    }
   ],
   "source": [
    "10*9*8*7*6*5*4*3*2*1"
   ]
  },
  {
   "cell_type": "code",
   "execution_count": 39,
   "id": "448d5fc5-3210-4c8b-a9f5-4ddaae65378e",
   "metadata": {},
   "outputs": [
    {
     "data": {
      "text/plain": [
       "[]"
      ]
     },
     "execution_count": 39,
     "metadata": {},
     "output_type": "execute_result"
    }
   ],
   "source": [
    "list(range(1,1))"
   ]
  },
  {
   "cell_type": "markdown",
   "id": "381fd791-ee09-425e-927e-9d2714a271ed",
   "metadata": {},
   "source": [
    "The Taylor series for $e^x$ is\n",
    "\n",
    "$$\n",
    "e^x = \\sum_{k=0}^{\\infty} \\frac{x^n}{n!}\n",
    "$$"
   ]
  },
  {
   "cell_type": "markdown",
   "id": "a882c672-c5a5-4ad9-84bc-5dba13a5b046",
   "metadata": {},
   "source": [
    "Write a function called `exp_taylor` which takes `x` and `N` and returns the partial sum of the Taylor series:\n",
    "\n",
    "$$\n",
    "\\sum_{k=0}^{N} \\frac{x^n}{n!}\n",
    "$$\n"
   ]
  },
  {
   "cell_type": "code",
   "execution_count": 40,
   "id": "e24fbe93-851c-43af-9718-960b05896034",
   "metadata": {},
   "outputs": [],
   "source": [
    "def exp_taylor(x,N):\n",
    "    terms = [x**n/factorial(n) for n in range(0,N+1)]\n",
    "    result = sum(terms)\n",
    "    return result"
   ]
  },
  {
   "cell_type": "code",
   "execution_count": 41,
   "id": "64e08f57-f055-478a-be16-037a26d4c037",
   "metadata": {},
   "outputs": [
    {
     "data": {
      "text/plain": [
       "2.718281828459045"
      ]
     },
     "execution_count": 41,
     "metadata": {},
     "output_type": "execute_result"
    }
   ],
   "source": [
    "exp_taylor(1,1000) # e = 2.718..."
   ]
  },
  {
   "cell_type": "code",
   "execution_count": 42,
   "id": "498aaaf2-ee4c-47c6-b806-d5db71bab858",
   "metadata": {},
   "outputs": [
    {
     "data": {
      "text/plain": [
       "7.0"
      ]
     },
     "execution_count": 42,
     "metadata": {},
     "output_type": "execute_result"
    }
   ],
   "source": [
    "exp_taylor(2,4) # 7"
   ]
  },
  {
   "cell_type": "code",
   "execution_count": 43,
   "id": "f00beb47-0812-4d1f-b111-ed4cf16af7f6",
   "metadata": {},
   "outputs": [
    {
     "data": {
      "text/plain": [
       "7.0"
      ]
     },
     "execution_count": 43,
     "metadata": {},
     "output_type": "execute_result"
    }
   ],
   "source": [
    "2**0/1 + 2**1/1 + 2**2/2 + 2**3/6 + 2**4/24"
   ]
  },
  {
   "cell_type": "markdown",
   "id": "747ce787-6246-4000-b327-6734e1d10f8f",
   "metadata": {},
   "source": [
    "## Recursive Sequences\n",
    "\n",
    "A recursive sequence is a sequence where the value $x_n$ depends on the previous values $x_{n-1},x_{n-1},\\dots,x_0$. We usually describe a recursive sequence in the form: $x_0 = a$, $x_{n+1} = f(x_n)$."
   ]
  },
  {
   "cell_type": "markdown",
   "id": "c921a723-93b5-4afa-becc-2118d6801a71",
   "metadata": {},
   "source": [
    "Write a function called `aseq` which takes `a` and `N` and returns the value $x_N$ of the recursive sequence: $x_0 = a$, $x_{n+1} = \\sqrt{2 + x_n}$."
   ]
  },
  {
   "cell_type": "code",
   "execution_count": 44,
   "id": "9292cd5f-89df-4708-953f-9b3a76e6ea88",
   "metadata": {},
   "outputs": [],
   "source": [
    "def aseq(a,N):\n",
    "    xk = a\n",
    "    for k in range(N):\n",
    "        xk = (2 + xk)**0.5\n",
    "    return xk"
   ]
  },
  {
   "cell_type": "code",
   "execution_count": 45,
   "id": "f223237b-84c3-4c7f-bec7-3a7191fece7e",
   "metadata": {},
   "outputs": [
    {
     "data": {
      "text/plain": [
       "1.7320508075688772"
      ]
     },
     "execution_count": 45,
     "metadata": {},
     "output_type": "execute_result"
    }
   ],
   "source": [
    "aseq(1,1)"
   ]
  },
  {
   "cell_type": "code",
   "execution_count": 47,
   "id": "1dc2e54a-2ca4-4ec0-a98a-fd2d08d97531",
   "metadata": {},
   "outputs": [
    {
     "data": {
      "text/plain": [
       "1.7320508075688772"
      ]
     },
     "execution_count": 47,
     "metadata": {},
     "output_type": "execute_result"
    }
   ],
   "source": [
    "3**0.5"
   ]
  },
  {
   "cell_type": "code",
   "execution_count": 48,
   "id": "8dc85670-f187-4c19-b589-9cdbc9b95736",
   "metadata": {},
   "outputs": [
    {
     "data": {
      "text/plain": [
       "2.0"
      ]
     },
     "execution_count": 48,
     "metadata": {},
     "output_type": "execute_result"
    }
   ],
   "source": [
    "aseq(2,10)"
   ]
  },
  {
   "cell_type": "code",
   "execution_count": 49,
   "id": "734ea6b0-7656-479d-8b6c-444037b4b104",
   "metadata": {},
   "outputs": [
    {
     "data": {
      "text/plain": [
       "1.9999958167178002"
      ]
     },
     "execution_count": 49,
     "metadata": {},
     "output_type": "execute_result"
    }
   ],
   "source": [
    "aseq(-1,10)"
   ]
  }
 ],
 "metadata": {
  "kernelspec": {
   "display_name": "Python 3 (ipykernel)",
   "language": "python",
   "name": "python3"
  },
  "language_info": {
   "codemirror_mode": {
    "name": "ipython",
    "version": 3
   },
   "file_extension": ".py",
   "mimetype": "text/x-python",
   "name": "python",
   "nbconvert_exporter": "python",
   "pygments_lexer": "ipython3",
   "version": "3.12.8"
  }
 },
 "nbformat": 4,
 "nbformat_minor": 5
}
