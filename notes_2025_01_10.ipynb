{
 "cells": [
  {
   "cell_type": "markdown",
   "id": "40838ebb-bb66-49d9-92e6-8f163baedaf8",
   "metadata": {},
   "source": [
    "# MATH 210 Introduction to Mathematical Computing\n",
    "\n",
    "**January 10, 2025**\n",
    "\n",
    "* Numeric types: integers, floats and complex\n",
    "* Arithmetic operations\n",
    "* Examples: roots and Taylor series\n",
    "* Variables"
   ]
  },
  {
   "cell_type": "markdown",
   "id": "5dca76fd-5257-495d-82d3-7e6ad8691aab",
   "metadata": {},
   "source": [
    "## Numeric Types\n",
    "\n",
    "There are 3 main numeric types: integer, float and complex. Integers are whole numbers like 10 and -3.\n",
    "\n",
    "We have the usual arithmetic operations: `+`, `-`, `*`, `/` and `**`."
   ]
  },
  {
   "cell_type": "code",
   "execution_count": 1,
   "id": "91d2f535-dfd4-420e-bc25-c6409a73401f",
   "metadata": {},
   "outputs": [
    {
     "data": {
      "text/plain": [
       "24"
      ]
     },
     "execution_count": 1,
     "metadata": {},
     "output_type": "execute_result"
    }
   ],
   "source": [
    "8 + 16"
   ]
  },
  {
   "cell_type": "code",
   "execution_count": 2,
   "id": "8eadaf8c-cb12-45e3-ada4-e69ba316cf27",
   "metadata": {},
   "outputs": [
    {
     "data": {
      "text/plain": [
       "-4"
      ]
     },
     "execution_count": 2,
     "metadata": {},
     "output_type": "execute_result"
    }
   ],
   "source": [
    "7 - 11"
   ]
  },
  {
   "cell_type": "code",
   "execution_count": 3,
   "id": "a0b42ba7-563d-4bba-83e5-faf4e9db16f4",
   "metadata": {},
   "outputs": [
    {
     "data": {
      "text/plain": [
       "120"
      ]
     },
     "execution_count": 3,
     "metadata": {},
     "output_type": "execute_result"
    }
   ],
   "source": [
    "5*4*3*2*1"
   ]
  },
  {
   "cell_type": "code",
   "execution_count": 4,
   "id": "7d230039-6aa7-48c6-894b-3c8c2a6148ff",
   "metadata": {},
   "outputs": [
    {
     "data": {
      "text/plain": [
       "32"
      ]
     },
     "execution_count": 4,
     "metadata": {},
     "output_type": "execute_result"
    }
   ],
   "source": [
    "2**5"
   ]
  },
  {
   "cell_type": "code",
   "execution_count": 5,
   "id": "5995e367-2f34-4e0a-9b71-33471564a142",
   "metadata": {},
   "outputs": [
    {
     "data": {
      "text/plain": [
       "4.0"
      ]
     },
     "execution_count": 5,
     "metadata": {},
     "output_type": "execute_result"
    }
   ],
   "source": [
    "100/25"
   ]
  },
  {
   "cell_type": "markdown",
   "id": "7e67b1df-b8f9-4161-b27c-7c9be1a7cad8",
   "metadata": {},
   "source": [
    "Note that division always returns a float even if the value is theoretically a whole number."
   ]
  },
  {
   "cell_type": "markdown",
   "id": "62f3f5ce-84cf-46e8-afec-478a1e1b907c",
   "metadata": {},
   "source": [
    "We can inspect the type of a number using the function `type`."
   ]
  },
  {
   "cell_type": "code",
   "execution_count": 6,
   "id": "7ca9b601-09e2-40ce-9577-41b1dd49b8c9",
   "metadata": {},
   "outputs": [
    {
     "data": {
      "text/plain": [
       "int"
      ]
     },
     "execution_count": 6,
     "metadata": {},
     "output_type": "execute_result"
    }
   ],
   "source": [
    "type(2025)"
   ]
  },
  {
   "cell_type": "code",
   "execution_count": 7,
   "id": "9a29c17f-869e-4a8b-8d92-e4fb8115fd35",
   "metadata": {},
   "outputs": [
    {
     "data": {
      "text/plain": [
       "float"
      ]
     },
     "execution_count": 7,
     "metadata": {},
     "output_type": "execute_result"
    }
   ],
   "source": [
    "type(2025.0)"
   ]
  },
  {
   "cell_type": "code",
   "execution_count": 8,
   "id": "034020bf-c493-44d1-9190-5f1aed7695f6",
   "metadata": {},
   "outputs": [
    {
     "data": {
      "text/plain": [
       "float"
      ]
     },
     "execution_count": 8,
     "metadata": {},
     "output_type": "execute_result"
    }
   ],
   "source": [
    "type(3.14)"
   ]
  },
  {
   "cell_type": "markdown",
   "id": "4115ed83-00c5-4739-9745-021921cecc20",
   "metadata": {},
   "source": [
    "A floating point number is a real number in decimal form. Python saves floats up to 16 decimal places."
   ]
  },
  {
   "cell_type": "code",
   "execution_count": 9,
   "id": "15a9de1f-caeb-490d-b341-af4ba86c4669",
   "metadata": {},
   "outputs": [
    {
     "data": {
      "text/plain": [
       "1.3333333333333333"
      ]
     },
     "execution_count": 9,
     "metadata": {},
     "output_type": "execute_result"
    }
   ],
   "source": [
    "4/3"
   ]
  },
  {
   "cell_type": "code",
   "execution_count": 10,
   "id": "3e991230-d825-4341-8b86-df42f8cc7138",
   "metadata": {},
   "outputs": [
    {
     "data": {
      "text/plain": [
       "0.30000000000000004"
      ]
     },
     "execution_count": 10,
     "metadata": {},
     "output_type": "execute_result"
    }
   ],
   "source": [
    "0.1 + 0.2"
   ]
  },
  {
   "cell_type": "markdown",
   "id": "a87f0c6a-3b4c-4fb0-a91e-77c28ac0a7bc",
   "metadata": {},
   "source": [
    "Since floating point numbers are always rounded to 16 decimal places we sometimes get rounding errors. We just have to be aware of it."
   ]
  },
  {
   "cell_type": "code",
   "execution_count": 11,
   "id": "60d657b7-7894-4564-9ce8-58572c76a869",
   "metadata": {},
   "outputs": [
    {
     "data": {
      "text/plain": [
       "3.1415926"
      ]
     },
     "execution_count": 11,
     "metadata": {},
     "output_type": "execute_result"
    }
   ],
   "source": [
    "3.1415926"
   ]
  },
  {
   "cell_type": "code",
   "execution_count": 12,
   "id": "e9601610-6309-4add-8443-7aad895a700d",
   "metadata": {},
   "outputs": [
    {
     "data": {
      "text/plain": [
       "21.9911482"
      ]
     },
     "execution_count": 12,
     "metadata": {},
     "output_type": "execute_result"
    }
   ],
   "source": [
    "3.1415926*7"
   ]
  },
  {
   "cell_type": "code",
   "execution_count": 13,
   "id": "6e3357f5-6e38-42ee-b8d2-b12cabb6f08e",
   "metadata": {},
   "outputs": [
    {
     "data": {
      "text/plain": [
       "9.1"
      ]
     },
     "execution_count": 13,
     "metadata": {},
     "output_type": "execute_result"
    }
   ],
   "source": [
    "4.1 + 5"
   ]
  },
  {
   "cell_type": "code",
   "execution_count": 14,
   "id": "73c1c4ec-e2d8-40df-8f09-b352309d39e6",
   "metadata": {},
   "outputs": [
    {
     "data": {
      "text/plain": [
       "0.25"
      ]
     },
     "execution_count": 14,
     "metadata": {},
     "output_type": "execute_result"
    }
   ],
   "source": [
    "2**(-2)"
   ]
  },
  {
   "cell_type": "markdown",
   "id": "545ea9b5-2bb2-45c3-9f82-a4e629e39b01",
   "metadata": {},
   "source": [
    "We can group operations together using parentheses `( ... )` not square brackets `[ ... ]` or curly brackets `{ ... }`."
   ]
  },
  {
   "cell_type": "code",
   "execution_count": 15,
   "id": "6cd63a82-59f9-4536-a5f4-9c2458ebaa43",
   "metadata": {},
   "outputs": [
    {
     "data": {
      "text/plain": [
       "0.06666666666666667"
      ]
     },
     "execution_count": 15,
     "metadata": {},
     "output_type": "execute_result"
    }
   ],
   "source": [
    "1/(1 + 2 + 3 + 4 + 5)"
   ]
  },
  {
   "cell_type": "markdown",
   "id": "d0229ab3-873c-4bb3-91dc-d25bb9312f8f",
   "metadata": {},
   "source": [
    "Complex numbers are written with the syntax `x + yj` where `x` and `y` are numbers."
   ]
  },
  {
   "cell_type": "code",
   "execution_count": 16,
   "id": "c62c3777-51c5-4e89-852e-8c5bb76ee78f",
   "metadata": {},
   "outputs": [
    {
     "data": {
      "text/plain": [
       "(6.123233995736766e-17+1j)"
      ]
     },
     "execution_count": 16,
     "metadata": {},
     "output_type": "execute_result"
    }
   ],
   "source": [
    "(-1)**0.5"
   ]
  },
  {
   "cell_type": "code",
   "execution_count": 17,
   "id": "50606f47-1459-49d0-b73e-b5dc3bcc1af9",
   "metadata": {},
   "outputs": [
    {
     "data": {
      "text/plain": [
       "complex"
      ]
     },
     "execution_count": 17,
     "metadata": {},
     "output_type": "execute_result"
    }
   ],
   "source": [
    "type(1j)"
   ]
  },
  {
   "cell_type": "code",
   "execution_count": 18,
   "id": "5fda0ae2-6f5f-4c23-9e88-73198c3177b0",
   "metadata": {},
   "outputs": [
    {
     "data": {
      "text/plain": [
       "(3+1j)"
      ]
     },
     "execution_count": 18,
     "metadata": {},
     "output_type": "execute_result"
    }
   ],
   "source": [
    "(2 - 1j)*(1 + 1j)"
   ]
  },
  {
   "cell_type": "code",
   "execution_count": 19,
   "id": "adac367d-ffdb-4638-ad68-162b5b0061f5",
   "metadata": {},
   "outputs": [
    {
     "data": {
      "text/plain": [
       "complex"
      ]
     },
     "execution_count": 19,
     "metadata": {},
     "output_type": "execute_result"
    }
   ],
   "source": [
    "type(1j)"
   ]
  },
  {
   "cell_type": "markdown",
   "id": "1431b318-772f-493e-8edc-546592832328",
   "metadata": {},
   "source": [
    "Use scientific notation for floats."
   ]
  },
  {
   "cell_type": "code",
   "execution_count": 20,
   "id": "79038692-82dd-416c-8af6-8a735a09a04e",
   "metadata": {},
   "outputs": [
    {
     "data": {
      "text/plain": [
       "0.01"
      ]
     },
     "execution_count": 20,
     "metadata": {},
     "output_type": "execute_result"
    }
   ],
   "source": [
    "1e-2"
   ]
  },
  {
   "cell_type": "code",
   "execution_count": 21,
   "id": "f5f27cca-f014-46b3-b55f-1ae21a42681b",
   "metadata": {},
   "outputs": [
    {
     "data": {
      "text/plain": [
       "123450.0"
      ]
     },
     "execution_count": 21,
     "metadata": {},
     "output_type": "execute_result"
    }
   ],
   "source": [
    "1.2345e5"
   ]
  },
  {
   "cell_type": "code",
   "execution_count": 22,
   "id": "162ff23e-fc3a-4445-aedd-cf321add4e49",
   "metadata": {},
   "outputs": [
    {
     "data": {
      "text/plain": [
       "1e-06"
      ]
     },
     "execution_count": 22,
     "metadata": {},
     "output_type": "execute_result"
    }
   ],
   "source": [
    "1e-6"
   ]
  },
  {
   "cell_type": "markdown",
   "id": "bfd423cd-e1af-4082-95eb-89133789884a",
   "metadata": {},
   "source": [
    "## Examples\n",
    "\n",
    "The quadratic formula gives roots of degree 2 polynomial $ax^2 + bx + c$ in terms of the coefficients:\n",
    "\n",
    "$$\n",
    "\\frac{-b \\pm \\sqrt{b^2 - 4ac}}{2a}\n",
    "$$"
   ]
  },
  {
   "cell_type": "markdown",
   "id": "886e5a89-8c1a-45d8-96be-28050430b3c9",
   "metadata": {},
   "source": [
    "Compute roots of $x^2 + 2x - 2$."
   ]
  },
  {
   "cell_type": "code",
   "execution_count": 23,
   "id": "8c5adac7-7fe9-4d64-be74-90703e50d8f2",
   "metadata": {},
   "outputs": [
    {
     "data": {
      "text/plain": [
       "0.7320508075688772"
      ]
     },
     "execution_count": 23,
     "metadata": {},
     "output_type": "execute_result"
    }
   ],
   "source": [
    "(-2 + (2**2 - 4*1*(-2))**0.5)/(2*1)"
   ]
  },
  {
   "cell_type": "code",
   "execution_count": 24,
   "id": "bad1be83-878e-4fd8-89a6-169aa69799ac",
   "metadata": {},
   "outputs": [
    {
     "data": {
      "text/plain": [
       "-2.732050807568877"
      ]
     },
     "execution_count": 24,
     "metadata": {},
     "output_type": "execute_result"
    }
   ],
   "source": [
    "(-2 - (2**2 - 4*1*(-2))**0.5)/(2*1)"
   ]
  },
  {
   "cell_type": "markdown",
   "id": "c9025f91-9b00-4850-a2ef-d64699bc8071",
   "metadata": {},
   "source": [
    "The Taylor series of $f(x)$ centered at $x=a$ is the sum\n",
    "\n",
    "$$\n",
    "\\sum_{n=0}^{\\infty} \\frac{f^{(n)}(a)}{n!} (x - a)^n\n",
    "$$\n",
    "\n",
    "For example, the Taylor series of $f(x)=e^x$ centered at $x=0$ is:\n",
    "\n",
    "$$\n",
    "e^x = \\sum_{n=0}^{\\infty} \\frac{x^n}{n!} \n",
    "$$\n",
    "\n",
    "Approximate $e$ using the first 6 terms of the Taylor series:"
   ]
  },
  {
   "cell_type": "code",
   "execution_count": 25,
   "id": "8d6660e0-e0ab-4298-9fa3-3aab2f8fa76e",
   "metadata": {},
   "outputs": [
    {
     "data": {
      "text/plain": [
       "2.7166666666666663"
      ]
     },
     "execution_count": 25,
     "metadata": {},
     "output_type": "execute_result"
    }
   ],
   "source": [
    "1/1 + 1/1 + 1/2 + 1/(3*2) + 1/(4*3*2) + 1/(5*4*3*2)"
   ]
  },
  {
   "cell_type": "markdown",
   "id": "7444fae0-6454-4eee-9afa-6331d71d5ef0",
   "metadata": {},
   "source": [
    "For example, the Taylor series of $f(x)=\\ln(x)$ centered at $x=1$ is:\n",
    "\n",
    "$$\n",
    "\\ln(x) = \\sum_{n=1}^{\\infty} (-1)^{n+1} \\frac{(x-1)^n}{n}\n",
    "$$\n",
    "\n",
    "Approximate $\\ln(2)$ using the first 6 terms of the Taylor series:"
   ]
  },
  {
   "cell_type": "code",
   "execution_count": 26,
   "id": "d747b5d7-9857-4c12-b0b5-16dd7fd0c8fe",
   "metadata": {},
   "outputs": [
    {
     "data": {
      "text/plain": [
       "0.6166666666666666"
      ]
     },
     "execution_count": 26,
     "metadata": {},
     "output_type": "execute_result"
    }
   ],
   "source": [
    "(-1)**(1+1)*(2 - 1)**1/1 + (-1)**(2+1)*(2 - 1)**2/2 + (-1)**(3+1)*(2 - 1)**3/3 + (-1)**(4+1)*(2 - 1)**4/4 + (-1)**(5+1)*(2 - 1)**5/5 + (-1)**(6+1)*(2 - 1)**6/6\n"
   ]
  },
  {
   "cell_type": "markdown",
   "id": "e5e76a83-42a9-4b07-b46b-18263bbccb0f",
   "metadata": {},
   "source": [
    "## Variables\n",
    "\n",
    "We use variables in Python to easily modify and combine values together. Use `=` to assign values to variables."
   ]
  },
  {
   "cell_type": "code",
   "execution_count": 27,
   "id": "8dc789e2-5d17-4ddf-96c1-744dda2275e0",
   "metadata": {},
   "outputs": [],
   "source": [
    "x = 5"
   ]
  },
  {
   "cell_type": "markdown",
   "id": "d1d7da81-8a00-42f5-b079-383e9b4ef740",
   "metadata": {},
   "source": [
    "Use the function `print` to display the value assigned to a variable."
   ]
  },
  {
   "cell_type": "code",
   "execution_count": 28,
   "id": "4ac42969-e3b8-4838-8c27-d02aa8b83fa2",
   "metadata": {},
   "outputs": [
    {
     "name": "stdout",
     "output_type": "stream",
     "text": [
      "5\n"
     ]
    }
   ],
   "source": [
    "print(x)"
   ]
  },
  {
   "cell_type": "code",
   "execution_count": 29,
   "id": "24e7f9a1-1383-49d1-9f25-b6053fcb75ca",
   "metadata": {},
   "outputs": [
    {
     "data": {
      "text/plain": [
       "int"
      ]
     },
     "execution_count": 29,
     "metadata": {},
     "output_type": "execute_result"
    }
   ],
   "source": [
    "type(x)"
   ]
  },
  {
   "cell_type": "markdown",
   "id": "097408e9-bde3-4fb2-ba1b-aa2287a52b1e",
   "metadata": {},
   "source": [
    "Consider the quadratic formula again:"
   ]
  },
  {
   "cell_type": "code",
   "execution_count": 30,
   "id": "0993bc25-e872-4214-9e33-427a6bfe4d4c",
   "metadata": {},
   "outputs": [
    {
     "name": "stdout",
     "output_type": "stream",
     "text": [
      "0.7320508075688772 -2.732050807568877\n"
     ]
    }
   ],
   "source": [
    "a = 1\n",
    "b = 2\n",
    "c = -2\n",
    "\n",
    "r1 = (-b + (b**2 - 4*a*c)**0.5)/(2*a)\n",
    "r2 = (-b - (b**2 - 4*a*c)**0.5)/(2*a)\n",
    "\n",
    "print(r1,r2)"
   ]
  },
  {
   "cell_type": "markdown",
   "id": "6493da5d-e630-4142-8647-4d3840bf7063",
   "metadata": {},
   "source": [
    "A variable name can be anything as long as it starts with a letter. Don't use reserved words as variable names."
   ]
  },
  {
   "cell_type": "code",
   "execution_count": 31,
   "id": "8eb19add-8342-4d4f-8a24-d517396ec0c1",
   "metadata": {},
   "outputs": [],
   "source": [
    "pi = 3.1415926"
   ]
  },
  {
   "cell_type": "code",
   "execution_count": 32,
   "id": "ce51e0f8-b357-457b-94b4-c80e4aada256",
   "metadata": {},
   "outputs": [
    {
     "data": {
      "text/plain": [
       "float"
      ]
     },
     "execution_count": 32,
     "metadata": {},
     "output_type": "execute_result"
    }
   ],
   "source": [
    "type(pi)"
   ]
  },
  {
   "cell_type": "code",
   "execution_count": 33,
   "id": "cdb59966-962c-4cc8-912c-589cc71ac331",
   "metadata": {},
   "outputs": [],
   "source": [
    "what_year_is_it_right_now = 2025"
   ]
  },
  {
   "cell_type": "code",
   "execution_count": 34,
   "id": "7e8fa3ad-1f03-4f2a-807d-7133d6c5d5d5",
   "metadata": {},
   "outputs": [
    {
     "data": {
      "text/plain": [
       "2025"
      ]
     },
     "execution_count": 34,
     "metadata": {},
     "output_type": "execute_result"
    }
   ],
   "source": [
    "what_year_is_it_right_now"
   ]
  }
 ],
 "metadata": {
  "kernelspec": {
   "display_name": "Python 3 (ipykernel)",
   "language": "python",
   "name": "python3"
  },
  "language_info": {
   "codemirror_mode": {
    "name": "ipython",
    "version": 3
   },
   "file_extension": ".py",
   "mimetype": "text/x-python",
   "name": "python",
   "nbconvert_exporter": "python",
   "pygments_lexer": "ipython3",
   "version": "3.12.8"
  }
 },
 "nbformat": 4,
 "nbformat_minor": 5
}
